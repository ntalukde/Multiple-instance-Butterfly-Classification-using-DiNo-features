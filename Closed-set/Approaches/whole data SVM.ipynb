{
 "cells": [
  {
   "cell_type": "code",
   "execution_count": 1,
   "id": "46dfb234",
   "metadata": {},
   "outputs": [],
   "source": [
    "#Load packages\n",
    "import pandas as pd\n",
    "import numpy as np\n",
    "import scipy.io as sio\n",
    "import random\n",
    "import scipy\n",
    "import matplotlib.pyplot as plt\n",
    "from collections import Counter\n",
    "from sklearn.manifold import TSNE\n",
    "from sklearn.svm import SVC\n",
    "from sklearn.pipeline import make_pipeline\n",
    "from sklearn.preprocessing import StandardScaler, MinMaxScaler, LabelEncoder\n",
    "from sklearn.utils.class_weight import compute_class_weight\n",
    "from sklearn.decomposition import PCA\n",
    "from sklearn.metrics import accuracy_score, confusion_matrix\n",
    "from sklearn.linear_model import LogisticRegression, RidgeClassifier, SGDClassifier"
   ]
  },
  {
   "cell_type": "code",
   "execution_count": 2,
   "id": "b15d723d",
   "metadata": {},
   "outputs": [],
   "source": [
    "#This function is used to encode labels since labels are categorical.\n",
    "def encode_labels(labels):\n",
    "    le = LabelEncoder()\n",
    "    le.fit(labels)\n",
    "    encoded_labels = le.transform(labels)\n",
    "    \n",
    "    return encoded_labels, le\n",
    "\n",
    "def decode_labels(encoded_predict_labels, le):\n",
    "    test_predictions = le.inverse_transform(encoded_predict_labels)\n",
    "    \n",
    "    return test_predictions\n",
    "\n",
    "#Mean class accuracy\n",
    "def mean_class_acc(predictions, true_labels):\n",
    "    matrix = confusion_matrix(true_labels, predictions)\n",
    "    acc = matrix.diagonal()/matrix.sum(axis=1)\n",
    "\n",
    "    return sum(acc)/len(acc)"
   ]
  },
  {
   "cell_type": "code",
   "execution_count": 3,
   "id": "19efaaaf",
   "metadata": {},
   "outputs": [],
   "source": [
    "#Load data\n",
    "whole = sio.loadmat('whole_wolabels.mat')"
   ]
  },
  {
   "cell_type": "code",
   "execution_count": 4,
   "id": "0e1fcdda",
   "metadata": {},
   "outputs": [
    {
     "name": "stdout",
     "output_type": "stream",
     "text": [
      "7849\n",
      "1379\n"
     ]
    }
   ],
   "source": [
    "#whole\n",
    "\n",
    "#train\n",
    "train_classid = np.squeeze(whole['train_classid'])\n",
    "train_class_labels = []\n",
    "for item in train_classid:\n",
    "    train_class_labels.append(item[0])\n",
    "train_features = whole['train_feats']\n",
    "train_imid = whole['train_imgid']\n",
    "train_imgid = []\n",
    "for item in train_imid:\n",
    "    train_imgid.append(item[0])\n",
    "train_imgid = np.squeeze(train_imgid)\n",
    "train_sampleid = whole['train_sampleid']\n",
    "\n",
    "#validation\n",
    "validation_classid = np.squeeze(whole['val_classid'])\n",
    "validation_class_labels = []\n",
    "for item in validation_classid:\n",
    "    validation_class_labels.append(item[0])\n",
    "validation_features = whole['val_feats']\n",
    "validation_imid = whole['val_imgid']\n",
    "validation_imgid = []\n",
    "for item in validation_imid:\n",
    "    validation_imgid.append(item[0])\n",
    "validation_imgid = np.squeeze(validation_imgid)\n",
    "validation_sampleid = whole['val_sampleid']\n",
    "\n",
    "#test\n",
    "test_features = whole['test_feats']\n",
    "test_imid = whole['test_imgid']\n",
    "test_imgid = []\n",
    "for item in test_imid:\n",
    "    test_imgid.append(item[0])\n",
    "test_imgid = np.squeeze(test_imgid)\n",
    "test_sampleid = whole['test_sampleid']\n",
    "\n",
    "#encoded train labels\n",
    "train_labels, le = encode_labels(train_class_labels)\n",
    "print(len(train_labels))\n",
    "\n",
    "#encoded validation labels\n",
    "validation_labels = le.transform(validation_class_labels)\n",
    "print(len(validation_labels))"
   ]
  },
  {
   "cell_type": "markdown",
   "id": "a3e72ce1",
   "metadata": {},
   "source": [
    "Running experiment with normalization"
   ]
  },
  {
   "cell_type": "code",
   "execution_count": 5,
   "id": "dd340888",
   "metadata": {},
   "outputs": [
    {
     "name": "stdout",
     "output_type": "stream",
     "text": [
      "Cost parameter: 0.1\n",
      "Overall Accuracy: 0.7940536620739667\n",
      "Mean class accuracy: 0.7573120857424904\n",
      "Cost parameter: 1\n",
      "Overall Accuracy: 0.794778825235678\n",
      "Mean class accuracy: 0.757558877450289\n",
      "Cost parameter: 5\n",
      "Overall Accuracy: 0.794778825235678\n",
      "Mean class accuracy: 0.757558877450289\n",
      "Cost parameter: 10\n",
      "Overall Accuracy: 0.794778825235678\n",
      "Mean class accuracy: 0.757558877450289\n",
      "Cost parameter: 15\n",
      "Overall Accuracy: 0.794778825235678\n",
      "Mean class accuracy: 0.757558877450289\n",
      "Cost parameter: 20\n",
      "Overall Accuracy: 0.794778825235678\n",
      "Mean class accuracy: 0.757558877450289\n"
     ]
    }
   ],
   "source": [
    "cost_param = [0.1, 1, 5, 10, 15, 20]\n",
    "\n",
    "for c in cost_param:\n",
    "    clf = make_pipeline(StandardScaler(), SVC(C=c, kernel='linear', degree=3, gamma='scale', coef0=0.0, shrinking=True, probability=False, tol=0.001, cache_size=200, class_weight='balanced', verbose=False, max_iter=- 1, decision_function_shape='ovr', break_ties=False, random_state=None))\n",
    "    clf.fit(train_features, train_labels)\n",
    "    preds = clf.predict(validation_features)\n",
    "    score = clf.score(validation_features, validation_labels)\n",
    "    print(\"Cost parameter:\", c)\n",
    "    print(\"Overall Accuracy:\", score)\n",
    "    mean_acc = mean_class_acc(preds, validation_labels)\n",
    "    print(\"Mean class accuracy:\", mean_acc)"
   ]
  },
  {
   "cell_type": "markdown",
   "id": "d3cad6ca",
   "metadata": {},
   "source": [
    "Running experiment with normalization"
   ]
  },
  {
   "cell_type": "code",
   "execution_count": 6,
   "id": "059253ff",
   "metadata": {},
   "outputs": [
    {
     "name": "stdout",
     "output_type": "stream",
     "text": [
      "Cost parameter: 0.1\n",
      "Overall Accuracy: 0.7955039883973894\n",
      "Mean class accuracy: 0.7596154750152776\n",
      "Cost parameter: 1\n",
      "Overall Accuracy: 0.7955039883973894\n",
      "Mean class accuracy: 0.7596154750152776\n",
      "Cost parameter: 5\n",
      "Overall Accuracy: 0.7955039883973894\n",
      "Mean class accuracy: 0.7596154750152776\n",
      "Cost parameter: 10\n",
      "Overall Accuracy: 0.7955039883973894\n",
      "Mean class accuracy: 0.7596154750152776\n",
      "Cost parameter: 15\n",
      "Overall Accuracy: 0.7955039883973894\n",
      "Mean class accuracy: 0.7596154750152776\n",
      "Cost parameter: 20\n",
      "Overall Accuracy: 0.7955039883973894\n",
      "Mean class accuracy: 0.7596154750152776\n"
     ]
    }
   ],
   "source": [
    "cost_param = [0.1, 1, 5, 10, 15, 20]\n",
    "\n",
    "for c in cost_param:\n",
    "    clf = SVC(C=c, kernel='linear', degree=3, gamma='scale', coef0=0.0, shrinking=True, probability=False, tol=0.001, cache_size=200, class_weight='balanced', verbose=False, max_iter=- 1, decision_function_shape='ovr', break_ties=False, random_state=None)\n",
    "    clf.fit(train_features, train_labels)\n",
    "    preds = clf.predict(validation_features)\n",
    "    score = clf.score(validation_features, validation_labels)\n",
    "    print(\"Cost parameter:\", c)\n",
    "    print(\"Overall Accuracy:\", score)\n",
    "    mean_acc = mean_class_acc(preds, validation_labels)\n",
    "    print(\"Mean class accuracy:\", mean_acc)"
   ]
  },
  {
   "cell_type": "markdown",
   "id": "1af7bddc",
   "metadata": {},
   "source": [
    "Old stuff"
   ]
  },
  {
   "cell_type": "code",
   "execution_count": 16,
   "id": "f6e77768",
   "metadata": {},
   "outputs": [
    {
     "name": "stdout",
     "output_type": "stream",
     "text": [
      "Cost parameter: 5\n",
      "Overall Accuracy: 0.817258883248731\n",
      "Mean class accuracy: 0.7835777746439149\n",
      "Cost parameter: 10\n",
      "Overall Accuracy: 0.8158085569253082\n",
      "Mean class accuracy: 0.7820970243971231\n",
      "Cost parameter: 15\n",
      "Overall Accuracy: 0.8165337200870196\n",
      "Mean class accuracy: 0.7830841912283176\n",
      "Cost parameter: 20\n",
      "Overall Accuracy: 0.8158085569253082\n",
      "Mean class accuracy: 0.7820970243971231\n",
      "Cost parameter: 25\n",
      "Overall Accuracy: 0.8158085569253082\n",
      "Mean class accuracy: 0.7830841912283176\n",
      "Cost parameter: 30\n",
      "Overall Accuracy: 0.817258883248731\n",
      "Mean class accuracy: 0.7835777746439149\n"
     ]
    }
   ],
   "source": [
    "cost_param = [5, 10, 15, 20, 25, 30]\n",
    "\n",
    "for c in cost_param:\n",
    "    clf = make_pipeline(StandardScaler(), SVC(C=c, kernel = 'linear', class_weight='balanced', random_state=0))\n",
    "    clf = LogisticRegression(C = c, solver = 'liblinear', class_weight = 'balanced', random_state=0)\n",
    "    clf.fit(train_features, train_labels)\n",
    "    preds = clf.predict(validation_features)\n",
    "    score = clf.score(validation_features, validation_labels)\n",
    "    print(\"Cost parameter:\", c)\n",
    "    print(\"Overall Accuracy:\", score)\n",
    "    mean_acc = mean_class_acc(preds, validation_labels)\n",
    "    print(\"Mean class accuracy:\", mean_acc)"
   ]
  },
  {
   "cell_type": "code",
   "execution_count": 17,
   "id": "f1af8662",
   "metadata": {},
   "outputs": [
    {
     "name": "stdout",
     "output_type": "stream",
     "text": [
      "Cost parameter: 0.1\n",
      "Overall Accuracy: 0.8158085569253082\n",
      "Mean class accuracy: 0.7816034409815258\n",
      "Cost parameter: 0.5\n",
      "Overall Accuracy: 0.8158085569253082\n",
      "Mean class accuracy: 0.7817679687867249\n",
      "Cost parameter: 1\n",
      "Overall Accuracy: 0.8150833937635968\n",
      "Mean class accuracy: 0.7807808019555305\n"
     ]
    }
   ],
   "source": [
    "cost_param = [0.1, 0.5, 1]\n",
    "\n",
    "for c in cost_param:\n",
    "    clf = LogisticRegression(C = c, solver = 'liblinear', class_weight = 'balanced', random_state=0)\n",
    "    clf.fit(train_features, train_labels)\n",
    "    preds = clf.predict(validation_features)\n",
    "    score = clf.score(validation_features, validation_labels)\n",
    "    print(\"Cost parameter:\", c)\n",
    "    print(\"Overall Accuracy:\", score)\n",
    "    mean_acc = mean_class_acc(preds, validation_labels)\n",
    "    print(\"Mean class accuracy:\", mean_acc)"
   ]
  },
  {
   "cell_type": "code",
   "execution_count": 5,
   "id": "af605307",
   "metadata": {},
   "outputs": [],
   "source": [
    "#normalization\n",
    "\n",
    "#minmax\n",
    "scalar_minmax = MinMaxScaler()\n",
    "train_features_norm_minmax = scalar_minmax.fit_transform(train_features)\n",
    "validation_features_norm_minmax = scalar_minmax.transform(validation_features)\n",
    "\n",
    "#z-score\n",
    "scalar_standard = StandardScaler()\n",
    "train_features_norm_standard = scalar_standard.fit_transform(train_features)\n",
    "validation_features_norm_standard = scalar_standard.transform(validation_features)"
   ]
  },
  {
   "cell_type": "markdown",
   "id": "3739e6e4",
   "metadata": {},
   "source": [
    "checking effect of cost parameter"
   ]
  },
  {
   "cell_type": "markdown",
   "id": "276da423",
   "metadata": {},
   "source": [
    "Normalization used is StandardScaler"
   ]
  },
  {
   "cell_type": "code",
   "execution_count": 7,
   "id": "ddd41cc7",
   "metadata": {},
   "outputs": [
    {
     "name": "stderr",
     "output_type": "stream",
     "text": [
      "/home/ntalukde/anaconda3/envs/NephNet3D/lib/python3.7/site-packages/sklearn/linear_model/_logistic.py:818: ConvergenceWarning: lbfgs failed to converge (status=1):\n",
      "STOP: TOTAL NO. of ITERATIONS REACHED LIMIT.\n",
      "\n",
      "Increase the number of iterations (max_iter) or scale the data as shown in:\n",
      "    https://scikit-learn.org/stable/modules/preprocessing.html\n",
      "Please also refer to the documentation for alternative solver options:\n",
      "    https://scikit-learn.org/stable/modules/linear_model.html#logistic-regression\n",
      "  extra_warning_msg=_LOGISTIC_SOLVER_CONVERGENCE_MSG,\n"
     ]
    },
    {
     "name": "stdout",
     "output_type": "stream",
     "text": [
      "Cost parameter: 1\n",
      "Overall Accuracy: 0.8063814358230602\n",
      "Mean class accuracy: 0.7721101866215391\n"
     ]
    },
    {
     "name": "stderr",
     "output_type": "stream",
     "text": [
      "/home/ntalukde/anaconda3/envs/NephNet3D/lib/python3.7/site-packages/sklearn/linear_model/_logistic.py:818: ConvergenceWarning: lbfgs failed to converge (status=1):\n",
      "STOP: TOTAL NO. of ITERATIONS REACHED LIMIT.\n",
      "\n",
      "Increase the number of iterations (max_iter) or scale the data as shown in:\n",
      "    https://scikit-learn.org/stable/modules/preprocessing.html\n",
      "Please also refer to the documentation for alternative solver options:\n",
      "    https://scikit-learn.org/stable/modules/linear_model.html#logistic-regression\n",
      "  extra_warning_msg=_LOGISTIC_SOLVER_CONVERGENCE_MSG,\n"
     ]
    },
    {
     "name": "stdout",
     "output_type": "stream",
     "text": [
      "Cost parameter: 10\n",
      "Overall Accuracy: 0.807831762146483\n",
      "Mean class accuracy: 0.7729328256475344\n",
      "Cost parameter: 100\n",
      "Overall Accuracy: 0.7991298042059464\n",
      "Mean class accuracy: 0.7640483241667841\n"
     ]
    },
    {
     "name": "stderr",
     "output_type": "stream",
     "text": [
      "/home/ntalukde/anaconda3/envs/NephNet3D/lib/python3.7/site-packages/sklearn/linear_model/_logistic.py:818: ConvergenceWarning: lbfgs failed to converge (status=1):\n",
      "STOP: TOTAL NO. of ITERATIONS REACHED LIMIT.\n",
      "\n",
      "Increase the number of iterations (max_iter) or scale the data as shown in:\n",
      "    https://scikit-learn.org/stable/modules/preprocessing.html\n",
      "Please also refer to the documentation for alternative solver options:\n",
      "    https://scikit-learn.org/stable/modules/linear_model.html#logistic-regression\n",
      "  extra_warning_msg=_LOGISTIC_SOLVER_CONVERGENCE_MSG,\n"
     ]
    }
   ],
   "source": [
    "cost_param = [1, 10, 100]\n",
    "\n",
    "for c in cost_param:\n",
    "    clf = LogisticRegression(C = c, class_weight = 'balanced', random_state=0)\n",
    "    clf.fit(train_features_norm_standard, train_labels)\n",
    "    preds = clf.predict(validation_features_norm_standard)\n",
    "    score = clf.score(validation_features_norm_standard, validation_labels)\n",
    "    print(\"Cost parameter:\", c)\n",
    "    print(\"Overall Accuracy:\", score)\n",
    "    mean_acc = mean_class_acc(preds, validation_labels)\n",
    "    print(\"Mean class accuracy:\", mean_acc)"
   ]
  },
  {
   "cell_type": "markdown",
   "id": "d581622f",
   "metadata": {},
   "source": [
    "Normalization used is MinMaxScaler"
   ]
  },
  {
   "cell_type": "code",
   "execution_count": 8,
   "id": "180e03b6",
   "metadata": {},
   "outputs": [
    {
     "name": "stderr",
     "output_type": "stream",
     "text": [
      "/home/ntalukde/anaconda3/envs/NephNet3D/lib/python3.7/site-packages/sklearn/linear_model/_logistic.py:818: ConvergenceWarning: lbfgs failed to converge (status=1):\n",
      "STOP: TOTAL NO. of ITERATIONS REACHED LIMIT.\n",
      "\n",
      "Increase the number of iterations (max_iter) or scale the data as shown in:\n",
      "    https://scikit-learn.org/stable/modules/preprocessing.html\n",
      "Please also refer to the documentation for alternative solver options:\n",
      "    https://scikit-learn.org/stable/modules/linear_model.html#logistic-regression\n",
      "  extra_warning_msg=_LOGISTIC_SOLVER_CONVERGENCE_MSG,\n"
     ]
    },
    {
     "name": "stdout",
     "output_type": "stream",
     "text": [
      "Cost parameter: 1\n",
      "Overall Accuracy: 0.8013052936910805\n",
      "Mean class accuracy: 0.7760118460019744\n"
     ]
    },
    {
     "name": "stderr",
     "output_type": "stream",
     "text": [
      "/home/ntalukde/anaconda3/envs/NephNet3D/lib/python3.7/site-packages/sklearn/linear_model/_logistic.py:818: ConvergenceWarning: lbfgs failed to converge (status=1):\n",
      "STOP: TOTAL NO. of ITERATIONS REACHED LIMIT.\n",
      "\n",
      "Increase the number of iterations (max_iter) or scale the data as shown in:\n",
      "    https://scikit-learn.org/stable/modules/preprocessing.html\n",
      "Please also refer to the documentation for alternative solver options:\n",
      "    https://scikit-learn.org/stable/modules/linear_model.html#logistic-regression\n",
      "  extra_warning_msg=_LOGISTIC_SOLVER_CONVERGENCE_MSG,\n"
     ]
    },
    {
     "name": "stdout",
     "output_type": "stream",
     "text": [
      "Cost parameter: 10\n",
      "Overall Accuracy: 0.8092820884699057\n",
      "Mean class accuracy: 0.777093028721854\n",
      "Cost parameter: 100\n",
      "Overall Accuracy: 0.8013052936910805\n",
      "Mean class accuracy: 0.7668217928829973\n"
     ]
    },
    {
     "name": "stderr",
     "output_type": "stream",
     "text": [
      "/home/ntalukde/anaconda3/envs/NephNet3D/lib/python3.7/site-packages/sklearn/linear_model/_logistic.py:818: ConvergenceWarning: lbfgs failed to converge (status=1):\n",
      "STOP: TOTAL NO. of ITERATIONS REACHED LIMIT.\n",
      "\n",
      "Increase the number of iterations (max_iter) or scale the data as shown in:\n",
      "    https://scikit-learn.org/stable/modules/preprocessing.html\n",
      "Please also refer to the documentation for alternative solver options:\n",
      "    https://scikit-learn.org/stable/modules/linear_model.html#logistic-regression\n",
      "  extra_warning_msg=_LOGISTIC_SOLVER_CONVERGENCE_MSG,\n"
     ]
    }
   ],
   "source": [
    "cost_param = [1, 10, 100]\n",
    "\n",
    "for c in cost_param:\n",
    "    clf = LogisticRegression(C = c, class_weight = 'balanced', random_state=0)\n",
    "    clf.fit(train_features_norm_minmax, train_labels)\n",
    "    preds = clf.predict(validation_features_norm_minmax)\n",
    "    score = clf.score(validation_features_norm_minmax, validation_labels)\n",
    "    print(\"Cost parameter:\", c)\n",
    "    print(\"Overall Accuracy:\", score)\n",
    "    mean_acc = mean_class_acc(preds, validation_labels)\n",
    "    print(\"Mean class accuracy:\", mean_acc)"
   ]
  },
  {
   "cell_type": "code",
   "execution_count": 9,
   "id": "c6bdb3aa",
   "metadata": {},
   "outputs": [
    {
     "name": "stderr",
     "output_type": "stream",
     "text": [
      "/home/ntalukde/anaconda3/envs/NephNet3D/lib/python3.7/site-packages/sklearn/linear_model/_logistic.py:818: ConvergenceWarning: lbfgs failed to converge (status=1):\n",
      "STOP: TOTAL NO. of ITERATIONS REACHED LIMIT.\n",
      "\n",
      "Increase the number of iterations (max_iter) or scale the data as shown in:\n",
      "    https://scikit-learn.org/stable/modules/preprocessing.html\n",
      "Please also refer to the documentation for alternative solver options:\n",
      "    https://scikit-learn.org/stable/modules/linear_model.html#logistic-regression\n",
      "  extra_warning_msg=_LOGISTIC_SOLVER_CONVERGENCE_MSG,\n"
     ]
    },
    {
     "name": "stdout",
     "output_type": "stream",
     "text": [
      "Cost parameter: 5\n",
      "Overall Accuracy: 0.8107324147933285\n",
      "Mean class accuracy: 0.781335495698773\n"
     ]
    },
    {
     "name": "stderr",
     "output_type": "stream",
     "text": [
      "/home/ntalukde/anaconda3/envs/NephNet3D/lib/python3.7/site-packages/sklearn/linear_model/_logistic.py:818: ConvergenceWarning: lbfgs failed to converge (status=1):\n",
      "STOP: TOTAL NO. of ITERATIONS REACHED LIMIT.\n",
      "\n",
      "Increase the number of iterations (max_iter) or scale the data as shown in:\n",
      "    https://scikit-learn.org/stable/modules/preprocessing.html\n",
      "Please also refer to the documentation for alternative solver options:\n",
      "    https://scikit-learn.org/stable/modules/linear_model.html#logistic-regression\n",
      "  extra_warning_msg=_LOGISTIC_SOLVER_CONVERGENCE_MSG,\n"
     ]
    },
    {
     "name": "stdout",
     "output_type": "stream",
     "text": [
      "Cost parameter: 10\n",
      "Overall Accuracy: 0.8092820884699057\n",
      "Mean class accuracy: 0.777093028721854\n"
     ]
    },
    {
     "name": "stderr",
     "output_type": "stream",
     "text": [
      "/home/ntalukde/anaconda3/envs/NephNet3D/lib/python3.7/site-packages/sklearn/linear_model/_logistic.py:818: ConvergenceWarning: lbfgs failed to converge (status=1):\n",
      "STOP: TOTAL NO. of ITERATIONS REACHED LIMIT.\n",
      "\n",
      "Increase the number of iterations (max_iter) or scale the data as shown in:\n",
      "    https://scikit-learn.org/stable/modules/preprocessing.html\n",
      "Please also refer to the documentation for alternative solver options:\n",
      "    https://scikit-learn.org/stable/modules/linear_model.html#logistic-regression\n",
      "  extra_warning_msg=_LOGISTIC_SOLVER_CONVERGENCE_MSG,\n"
     ]
    },
    {
     "name": "stdout",
     "output_type": "stream",
     "text": [
      "Cost parameter: 15\n",
      "Overall Accuracy: 0.8071065989847716\n",
      "Mean class accuracy: 0.7770342687914257\n"
     ]
    },
    {
     "name": "stderr",
     "output_type": "stream",
     "text": [
      "/home/ntalukde/anaconda3/envs/NephNet3D/lib/python3.7/site-packages/sklearn/linear_model/_logistic.py:818: ConvergenceWarning: lbfgs failed to converge (status=1):\n",
      "STOP: TOTAL NO. of ITERATIONS REACHED LIMIT.\n",
      "\n",
      "Increase the number of iterations (max_iter) or scale the data as shown in:\n",
      "    https://scikit-learn.org/stable/modules/preprocessing.html\n",
      "Please also refer to the documentation for alternative solver options:\n",
      "    https://scikit-learn.org/stable/modules/linear_model.html#logistic-regression\n",
      "  extra_warning_msg=_LOGISTIC_SOLVER_CONVERGENCE_MSG,\n"
     ]
    },
    {
     "name": "stdout",
     "output_type": "stream",
     "text": [
      "Cost parameter: 20\n",
      "Overall Accuracy: 0.8085569253081943\n",
      "Mean class accuracy: 0.774883655337752\n"
     ]
    },
    {
     "name": "stderr",
     "output_type": "stream",
     "text": [
      "/home/ntalukde/anaconda3/envs/NephNet3D/lib/python3.7/site-packages/sklearn/linear_model/_logistic.py:818: ConvergenceWarning: lbfgs failed to converge (status=1):\n",
      "STOP: TOTAL NO. of ITERATIONS REACHED LIMIT.\n",
      "\n",
      "Increase the number of iterations (max_iter) or scale the data as shown in:\n",
      "    https://scikit-learn.org/stable/modules/preprocessing.html\n",
      "Please also refer to the documentation for alternative solver options:\n",
      "    https://scikit-learn.org/stable/modules/linear_model.html#logistic-regression\n",
      "  extra_warning_msg=_LOGISTIC_SOLVER_CONVERGENCE_MSG,\n"
     ]
    },
    {
     "name": "stdout",
     "output_type": "stream",
     "text": [
      "Cost parameter: 25\n",
      "Overall Accuracy: 0.8027556200145033\n",
      "Mean class accuracy: 0.7694542377661825\n",
      "Cost parameter: 30\n",
      "Overall Accuracy: 0.8063814358230602\n",
      "Mean class accuracy: 0.7731208574249047\n"
     ]
    },
    {
     "name": "stderr",
     "output_type": "stream",
     "text": [
      "/home/ntalukde/anaconda3/envs/NephNet3D/lib/python3.7/site-packages/sklearn/linear_model/_logistic.py:818: ConvergenceWarning: lbfgs failed to converge (status=1):\n",
      "STOP: TOTAL NO. of ITERATIONS REACHED LIMIT.\n",
      "\n",
      "Increase the number of iterations (max_iter) or scale the data as shown in:\n",
      "    https://scikit-learn.org/stable/modules/preprocessing.html\n",
      "Please also refer to the documentation for alternative solver options:\n",
      "    https://scikit-learn.org/stable/modules/linear_model.html#logistic-regression\n",
      "  extra_warning_msg=_LOGISTIC_SOLVER_CONVERGENCE_MSG,\n"
     ]
    }
   ],
   "source": [
    "cost_param = [5, 10, 15, 20, 25, 30]\n",
    "\n",
    "for c in cost_param:\n",
    "    clf = LogisticRegression(C = c, class_weight = 'balanced', random_state=0)\n",
    "    clf.fit(train_features_norm_minmax, train_labels)\n",
    "    preds = clf.predict(validation_features_norm_minmax)\n",
    "    score = clf.score(validation_features_norm_minmax, validation_labels)\n",
    "    print(\"Cost parameter:\", c)\n",
    "    print(\"Overall Accuracy:\", score)\n",
    "    mean_acc = mean_class_acc(preds, validation_labels)\n",
    "    print(\"Mean class accuracy:\", mean_acc)"
   ]
  },
  {
   "cell_type": "code",
   "execution_count": 10,
   "id": "3ec4ba15",
   "metadata": {},
   "outputs": [
    {
     "name": "stderr",
     "output_type": "stream",
     "text": [
      "/home/ntalukde/anaconda3/envs/NephNet3D/lib/python3.7/site-packages/sklearn/linear_model/_logistic.py:818: ConvergenceWarning: lbfgs failed to converge (status=1):\n",
      "STOP: TOTAL NO. of ITERATIONS REACHED LIMIT.\n",
      "\n",
      "Increase the number of iterations (max_iter) or scale the data as shown in:\n",
      "    https://scikit-learn.org/stable/modules/preprocessing.html\n",
      "Please also refer to the documentation for alternative solver options:\n",
      "    https://scikit-learn.org/stable/modules/linear_model.html#logistic-regression\n",
      "  extra_warning_msg=_LOGISTIC_SOLVER_CONVERGENCE_MSG,\n"
     ]
    },
    {
     "name": "stdout",
     "output_type": "stream",
     "text": [
      "Cost parameter: 1\n",
      "Overall Accuracy: 0.8013052936910805\n",
      "Mean class accuracy: 0.7760118460019744\n"
     ]
    },
    {
     "name": "stderr",
     "output_type": "stream",
     "text": [
      "/home/ntalukde/anaconda3/envs/NephNet3D/lib/python3.7/site-packages/sklearn/linear_model/_logistic.py:818: ConvergenceWarning: lbfgs failed to converge (status=1):\n",
      "STOP: TOTAL NO. of ITERATIONS REACHED LIMIT.\n",
      "\n",
      "Increase the number of iterations (max_iter) or scale the data as shown in:\n",
      "    https://scikit-learn.org/stable/modules/preprocessing.html\n",
      "Please also refer to the documentation for alternative solver options:\n",
      "    https://scikit-learn.org/stable/modules/linear_model.html#logistic-regression\n",
      "  extra_warning_msg=_LOGISTIC_SOLVER_CONVERGENCE_MSG,\n"
     ]
    },
    {
     "name": "stdout",
     "output_type": "stream",
     "text": [
      "Cost parameter: 2\n",
      "Overall Accuracy: 0.8034807831762146\n",
      "Mean class accuracy: 0.7757415503220044\n"
     ]
    },
    {
     "name": "stderr",
     "output_type": "stream",
     "text": [
      "/home/ntalukde/anaconda3/envs/NephNet3D/lib/python3.7/site-packages/sklearn/linear_model/_logistic.py:818: ConvergenceWarning: lbfgs failed to converge (status=1):\n",
      "STOP: TOTAL NO. of ITERATIONS REACHED LIMIT.\n",
      "\n",
      "Increase the number of iterations (max_iter) or scale the data as shown in:\n",
      "    https://scikit-learn.org/stable/modules/preprocessing.html\n",
      "Please also refer to the documentation for alternative solver options:\n",
      "    https://scikit-learn.org/stable/modules/linear_model.html#logistic-regression\n",
      "  extra_warning_msg=_LOGISTIC_SOLVER_CONVERGENCE_MSG,\n"
     ]
    },
    {
     "name": "stdout",
     "output_type": "stream",
     "text": [
      "Cost parameter: 3\n",
      "Overall Accuracy: 0.8063814358230602\n",
      "Mean class accuracy: 0.776893244958398\n"
     ]
    },
    {
     "name": "stderr",
     "output_type": "stream",
     "text": [
      "/home/ntalukde/anaconda3/envs/NephNet3D/lib/python3.7/site-packages/sklearn/linear_model/_logistic.py:818: ConvergenceWarning: lbfgs failed to converge (status=1):\n",
      "STOP: TOTAL NO. of ITERATIONS REACHED LIMIT.\n",
      "\n",
      "Increase the number of iterations (max_iter) or scale the data as shown in:\n",
      "    https://scikit-learn.org/stable/modules/preprocessing.html\n",
      "Please also refer to the documentation for alternative solver options:\n",
      "    https://scikit-learn.org/stable/modules/linear_model.html#logistic-regression\n",
      "  extra_warning_msg=_LOGISTIC_SOLVER_CONVERGENCE_MSG,\n"
     ]
    },
    {
     "name": "stdout",
     "output_type": "stream",
     "text": [
      "Cost parameter: 4\n",
      "Overall Accuracy: 0.807831762146483\n",
      "Mean class accuracy: 0.7781272034973911\n"
     ]
    },
    {
     "name": "stderr",
     "output_type": "stream",
     "text": [
      "/home/ntalukde/anaconda3/envs/NephNet3D/lib/python3.7/site-packages/sklearn/linear_model/_logistic.py:818: ConvergenceWarning: lbfgs failed to converge (status=1):\n",
      "STOP: TOTAL NO. of ITERATIONS REACHED LIMIT.\n",
      "\n",
      "Increase the number of iterations (max_iter) or scale the data as shown in:\n",
      "    https://scikit-learn.org/stable/modules/preprocessing.html\n",
      "Please also refer to the documentation for alternative solver options:\n",
      "    https://scikit-learn.org/stable/modules/linear_model.html#logistic-regression\n",
      "  extra_warning_msg=_LOGISTIC_SOLVER_CONVERGENCE_MSG,\n"
     ]
    },
    {
     "name": "stdout",
     "output_type": "stream",
     "text": [
      "Cost parameter: 5\n",
      "Overall Accuracy: 0.8107324147933285\n",
      "Mean class accuracy: 0.781335495698773\n"
     ]
    },
    {
     "name": "stderr",
     "output_type": "stream",
     "text": [
      "/home/ntalukde/anaconda3/envs/NephNet3D/lib/python3.7/site-packages/sklearn/linear_model/_logistic.py:818: ConvergenceWarning: lbfgs failed to converge (status=1):\n",
      "STOP: TOTAL NO. of ITERATIONS REACHED LIMIT.\n",
      "\n",
      "Increase the number of iterations (max_iter) or scale the data as shown in:\n",
      "    https://scikit-learn.org/stable/modules/preprocessing.html\n",
      "Please also refer to the documentation for alternative solver options:\n",
      "    https://scikit-learn.org/stable/modules/linear_model.html#logistic-regression\n",
      "  extra_warning_msg=_LOGISTIC_SOLVER_CONVERGENCE_MSG,\n"
     ]
    },
    {
     "name": "stdout",
     "output_type": "stream",
     "text": [
      "Cost parameter: 6\n",
      "Overall Accuracy: 0.8092820884699057\n",
      "Mean class accuracy: 0.7788205706764443\n"
     ]
    },
    {
     "name": "stderr",
     "output_type": "stream",
     "text": [
      "/home/ntalukde/anaconda3/envs/NephNet3D/lib/python3.7/site-packages/sklearn/linear_model/_logistic.py:818: ConvergenceWarning: lbfgs failed to converge (status=1):\n",
      "STOP: TOTAL NO. of ITERATIONS REACHED LIMIT.\n",
      "\n",
      "Increase the number of iterations (max_iter) or scale the data as shown in:\n",
      "    https://scikit-learn.org/stable/modules/preprocessing.html\n",
      "Please also refer to the documentation for alternative solver options:\n",
      "    https://scikit-learn.org/stable/modules/linear_model.html#logistic-regression\n",
      "  extra_warning_msg=_LOGISTIC_SOLVER_CONVERGENCE_MSG,\n"
     ]
    },
    {
     "name": "stdout",
     "output_type": "stream",
     "text": [
      "Cost parameter: 7\n",
      "Overall Accuracy: 0.8100072516316171\n",
      "Mean class accuracy: 0.779032106425986\n"
     ]
    },
    {
     "name": "stderr",
     "output_type": "stream",
     "text": [
      "/home/ntalukde/anaconda3/envs/NephNet3D/lib/python3.7/site-packages/sklearn/linear_model/_logistic.py:818: ConvergenceWarning: lbfgs failed to converge (status=1):\n",
      "STOP: TOTAL NO. of ITERATIONS REACHED LIMIT.\n",
      "\n",
      "Increase the number of iterations (max_iter) or scale the data as shown in:\n",
      "    https://scikit-learn.org/stable/modules/preprocessing.html\n",
      "Please also refer to the documentation for alternative solver options:\n",
      "    https://scikit-learn.org/stable/modules/linear_model.html#logistic-regression\n",
      "  extra_warning_msg=_LOGISTIC_SOLVER_CONVERGENCE_MSG,\n"
     ]
    },
    {
     "name": "stdout",
     "output_type": "stream",
     "text": [
      "Cost parameter: 8\n",
      "Overall Accuracy: 0.8092820884699057\n",
      "Mean class accuracy: 0.7792788981337846\n"
     ]
    },
    {
     "name": "stderr",
     "output_type": "stream",
     "text": [
      "/home/ntalukde/anaconda3/envs/NephNet3D/lib/python3.7/site-packages/sklearn/linear_model/_logistic.py:818: ConvergenceWarning: lbfgs failed to converge (status=1):\n",
      "STOP: TOTAL NO. of ITERATIONS REACHED LIMIT.\n",
      "\n",
      "Increase the number of iterations (max_iter) or scale the data as shown in:\n",
      "    https://scikit-learn.org/stable/modules/preprocessing.html\n",
      "Please also refer to the documentation for alternative solver options:\n",
      "    https://scikit-learn.org/stable/modules/linear_model.html#logistic-regression\n",
      "  extra_warning_msg=_LOGISTIC_SOLVER_CONVERGENCE_MSG,\n"
     ]
    },
    {
     "name": "stdout",
     "output_type": "stream",
     "text": [
      "Cost parameter: 9\n",
      "Overall Accuracy: 0.8092820884699057\n",
      "Mean class accuracy: 0.7767639731114557\n"
     ]
    },
    {
     "name": "stderr",
     "output_type": "stream",
     "text": [
      "/home/ntalukde/anaconda3/envs/NephNet3D/lib/python3.7/site-packages/sklearn/linear_model/_logistic.py:818: ConvergenceWarning: lbfgs failed to converge (status=1):\n",
      "STOP: TOTAL NO. of ITERATIONS REACHED LIMIT.\n",
      "\n",
      "Increase the number of iterations (max_iter) or scale the data as shown in:\n",
      "    https://scikit-learn.org/stable/modules/preprocessing.html\n",
      "Please also refer to the documentation for alternative solver options:\n",
      "    https://scikit-learn.org/stable/modules/linear_model.html#logistic-regression\n",
      "  extra_warning_msg=_LOGISTIC_SOLVER_CONVERGENCE_MSG,\n"
     ]
    },
    {
     "name": "stdout",
     "output_type": "stream",
     "text": [
      "Cost parameter: 10\n",
      "Overall Accuracy: 0.8092820884699057\n",
      "Mean class accuracy: 0.777093028721854\n"
     ]
    },
    {
     "name": "stderr",
     "output_type": "stream",
     "text": [
      "/home/ntalukde/anaconda3/envs/NephNet3D/lib/python3.7/site-packages/sklearn/linear_model/_logistic.py:818: ConvergenceWarning: lbfgs failed to converge (status=1):\n",
      "STOP: TOTAL NO. of ITERATIONS REACHED LIMIT.\n",
      "\n",
      "Increase the number of iterations (max_iter) or scale the data as shown in:\n",
      "    https://scikit-learn.org/stable/modules/preprocessing.html\n",
      "Please also refer to the documentation for alternative solver options:\n",
      "    https://scikit-learn.org/stable/modules/linear_model.html#logistic-regression\n",
      "  extra_warning_msg=_LOGISTIC_SOLVER_CONVERGENCE_MSG,\n"
     ]
    },
    {
     "name": "stdout",
     "output_type": "stream",
     "text": [
      "Cost parameter: 11\n",
      "Overall Accuracy: 0.8071065989847716\n",
      "Mean class accuracy: 0.7754712546420346\n"
     ]
    },
    {
     "name": "stderr",
     "output_type": "stream",
     "text": [
      "/home/ntalukde/anaconda3/envs/NephNet3D/lib/python3.7/site-packages/sklearn/linear_model/_logistic.py:818: ConvergenceWarning: lbfgs failed to converge (status=1):\n",
      "STOP: TOTAL NO. of ITERATIONS REACHED LIMIT.\n",
      "\n",
      "Increase the number of iterations (max_iter) or scale the data as shown in:\n",
      "    https://scikit-learn.org/stable/modules/preprocessing.html\n",
      "Please also refer to the documentation for alternative solver options:\n",
      "    https://scikit-learn.org/stable/modules/linear_model.html#logistic-regression\n",
      "  extra_warning_msg=_LOGISTIC_SOLVER_CONVERGENCE_MSG,\n"
     ]
    },
    {
     "name": "stdout",
     "output_type": "stream",
     "text": [
      "Cost parameter: 12\n",
      "Overall Accuracy: 0.8092820884699057\n",
      "Mean class accuracy: 0.7782917313025901\n"
     ]
    },
    {
     "name": "stderr",
     "output_type": "stream",
     "text": [
      "/home/ntalukde/anaconda3/envs/NephNet3D/lib/python3.7/site-packages/sklearn/linear_model/_logistic.py:818: ConvergenceWarning: lbfgs failed to converge (status=1):\n",
      "STOP: TOTAL NO. of ITERATIONS REACHED LIMIT.\n",
      "\n",
      "Increase the number of iterations (max_iter) or scale the data as shown in:\n",
      "    https://scikit-learn.org/stable/modules/preprocessing.html\n",
      "Please also refer to the documentation for alternative solver options:\n",
      "    https://scikit-learn.org/stable/modules/linear_model.html#logistic-regression\n",
      "  extra_warning_msg=_LOGISTIC_SOLVER_CONVERGENCE_MSG,\n"
     ]
    },
    {
     "name": "stdout",
     "output_type": "stream",
     "text": [
      "Cost parameter: 13\n",
      "Overall Accuracy: 0.8100072516316171\n",
      "Mean class accuracy: 0.7780214356226202\n"
     ]
    },
    {
     "name": "stderr",
     "output_type": "stream",
     "text": [
      "/home/ntalukde/anaconda3/envs/NephNet3D/lib/python3.7/site-packages/sklearn/linear_model/_logistic.py:818: ConvergenceWarning: lbfgs failed to converge (status=1):\n",
      "STOP: TOTAL NO. of ITERATIONS REACHED LIMIT.\n",
      "\n",
      "Increase the number of iterations (max_iter) or scale the data as shown in:\n",
      "    https://scikit-learn.org/stable/modules/preprocessing.html\n",
      "Please also refer to the documentation for alternative solver options:\n",
      "    https://scikit-learn.org/stable/modules/linear_model.html#logistic-regression\n",
      "  extra_warning_msg=_LOGISTIC_SOLVER_CONVERGENCE_MSG,\n"
     ]
    },
    {
     "name": "stdout",
     "output_type": "stream",
     "text": [
      "Cost parameter: 14\n",
      "Overall Accuracy: 0.8092820884699057\n",
      "Mean class accuracy: 0.7785385230103887\n",
      "Cost parameter: 15\n",
      "Overall Accuracy: 0.8071065989847716\n",
      "Mean class accuracy: 0.7770342687914257\n"
     ]
    },
    {
     "name": "stderr",
     "output_type": "stream",
     "text": [
      "/home/ntalukde/anaconda3/envs/NephNet3D/lib/python3.7/site-packages/sklearn/linear_model/_logistic.py:818: ConvergenceWarning: lbfgs failed to converge (status=1):\n",
      "STOP: TOTAL NO. of ITERATIONS REACHED LIMIT.\n",
      "\n",
      "Increase the number of iterations (max_iter) or scale the data as shown in:\n",
      "    https://scikit-learn.org/stable/modules/preprocessing.html\n",
      "Please also refer to the documentation for alternative solver options:\n",
      "    https://scikit-learn.org/stable/modules/linear_model.html#logistic-regression\n",
      "  extra_warning_msg=_LOGISTIC_SOLVER_CONVERGENCE_MSG,\n"
     ]
    }
   ],
   "source": [
    "cost_param = [1, 2, 3, 4, 5, 6, 7, 8, 9, 10, 11, 12, 13, 14, 15]\n",
    "\n",
    "for c in cost_param:\n",
    "    clf = LogisticRegression(C = c, class_weight = 'balanced', random_state=0)\n",
    "    clf.fit(train_features_norm_minmax, train_labels)\n",
    "    preds = clf.predict(validation_features_norm_minmax)\n",
    "    score = clf.score(validation_features_norm_minmax, validation_labels)\n",
    "    print(\"Cost parameter:\", c)\n",
    "    print(\"Overall Accuracy:\", score)\n",
    "    mean_acc = mean_class_acc(preds, validation_labels)\n",
    "    print(\"Mean class accuracy:\", mean_acc)"
   ]
  },
  {
   "cell_type": "markdown",
   "id": "6d9e66e5",
   "metadata": {},
   "source": [
    "Liblinear solver"
   ]
  },
  {
   "cell_type": "code",
   "execution_count": 11,
   "id": "ef235393",
   "metadata": {},
   "outputs": [
    {
     "name": "stdout",
     "output_type": "stream",
     "text": [
      "Cost parameter: 1\n",
      "Overall Accuracy: 0.794778825235678\n",
      "Mean class accuracy: 0.7656724486438208\n",
      "Cost parameter: 5\n",
      "Overall Accuracy: 0.8063814358230602\n",
      "Mean class accuracy: 0.7744253278804117\n",
      "Cost parameter: 10\n",
      "Overall Accuracy: 0.813633067440174\n",
      "Mean class accuracy: 0.7808278098998731\n",
      "Cost parameter: 20\n",
      "Overall Accuracy: 0.8143582306018854\n",
      "Mean class accuracy: 0.7806162741503313\n"
     ]
    }
   ],
   "source": [
    "cost_param = [1, 5, 10, 20]\n",
    "\n",
    "for c in cost_param:\n",
    "    clf = LogisticRegression(C = c, solver = 'liblinear', class_weight = 'balanced', random_state=0)\n",
    "    clf.fit(train_features_norm_minmax, train_labels)\n",
    "    preds = clf.predict(validation_features_norm_minmax)\n",
    "    score = clf.score(validation_features_norm_minmax, validation_labels)\n",
    "    print(\"Cost parameter:\", c)\n",
    "    print(\"Overall Accuracy:\", score)\n",
    "    mean_acc = mean_class_acc(preds, validation_labels)\n",
    "    print(\"Mean class accuracy:\", mean_acc)"
   ]
  },
  {
   "cell_type": "code",
   "execution_count": 12,
   "id": "eb0dfd7d",
   "metadata": {},
   "outputs": [
    {
     "name": "stdout",
     "output_type": "stream",
     "text": [
      "Cost parameter: 10\n",
      "Overall Accuracy: 0.813633067440174\n",
      "Mean class accuracy: 0.7808278098998731\n",
      "Cost parameter: 20\n",
      "Overall Accuracy: 0.8143582306018854\n",
      "Mean class accuracy: 0.7806162741503313\n",
      "Cost parameter: 30\n",
      "Overall Accuracy: 0.813633067440174\n",
      "Mean class accuracy: 0.7791355239035396\n",
      "Cost parameter: 40\n",
      "Overall Accuracy: 0.8114575779550399\n",
      "Mean class accuracy: 0.7766676068255535\n",
      "Cost parameter: 50\n",
      "Overall Accuracy: 0.8107324147933285\n",
      "Mean class accuracy: 0.775680439994359\n"
     ]
    }
   ],
   "source": [
    "cost_param = [10, 20, 30, 40, 50]\n",
    "\n",
    "for c in cost_param:\n",
    "    clf = LogisticRegression(C = c, solver = 'liblinear', class_weight = 'balanced', random_state=0)\n",
    "    clf.fit(train_features_norm_minmax, train_labels)\n",
    "    preds = clf.predict(validation_features_norm_minmax)\n",
    "    score = clf.score(validation_features_norm_minmax, validation_labels)\n",
    "    print(\"Cost parameter:\", c)\n",
    "    print(\"Overall Accuracy:\", score)\n",
    "    mean_acc = mean_class_acc(preds, validation_labels)\n",
    "    print(\"Mean class accuracy:\", mean_acc)"
   ]
  },
  {
   "cell_type": "code",
   "execution_count": 13,
   "id": "d9af75c0",
   "metadata": {},
   "outputs": [
    {
     "name": "stdout",
     "output_type": "stream",
     "text": [
      "Cost parameter: 8\n",
      "Overall Accuracy: 0.8107324147933285\n",
      "Mean class accuracy: 0.777619517698491\n",
      "Cost parameter: 9\n",
      "Overall Accuracy: 0.8129079042784626\n",
      "Mean class accuracy: 0.7798406430686786\n",
      "Cost parameter: 10\n",
      "Overall Accuracy: 0.813633067440174\n",
      "Mean class accuracy: 0.7808278098998731\n",
      "Cost parameter: 11\n",
      "Overall Accuracy: 0.813633067440174\n",
      "Mean class accuracy: 0.7799816669017063\n",
      "Cost parameter: 12\n",
      "Overall Accuracy: 0.8143582306018854\n",
      "Mean class accuracy: 0.7809688337329008\n"
     ]
    }
   ],
   "source": [
    "cost_param = [8, 9, 10, 11, 12]\n",
    "\n",
    "for c in cost_param:\n",
    "    clf = LogisticRegression(C = c, solver = 'liblinear', class_weight = 'balanced', random_state=0)\n",
    "    clf.fit(train_features_norm_minmax, train_labels)\n",
    "    preds = clf.predict(validation_features_norm_minmax)\n",
    "    score = clf.score(validation_features_norm_minmax, validation_labels)\n",
    "    print(\"Cost parameter:\", c)\n",
    "    print(\"Overall Accuracy:\", score)\n",
    "    mean_acc = mean_class_acc(preds, validation_labels)\n",
    "    print(\"Mean class accuracy:\", mean_acc)"
   ]
  },
  {
   "cell_type": "code",
   "execution_count": null,
   "id": "c19de2b4",
   "metadata": {},
   "outputs": [],
   "source": []
  }
 ],
 "metadata": {
  "kernelspec": {
   "display_name": "Python 3 (ipykernel)",
   "language": "python",
   "name": "python3"
  },
  "language_info": {
   "codemirror_mode": {
    "name": "ipython",
    "version": 3
   },
   "file_extension": ".py",
   "mimetype": "text/x-python",
   "name": "python",
   "nbconvert_exporter": "python",
   "pygments_lexer": "ipython3",
   "version": "3.7.9"
  }
 },
 "nbformat": 4,
 "nbformat_minor": 5
}
