{
 "cells": [
  {
   "cell_type": "code",
   "execution_count": 8,
   "id": "f2d79888",
   "metadata": {},
   "outputs": [],
   "source": [
    "#Load packages\n",
    "import pandas as pd\n",
    "import numpy as np\n",
    "import scipy.io as sio\n",
    "import random\n",
    "import scipy\n",
    "import matplotlib.pyplot as plt\n",
    "from collections import Counter\n",
    "from sklearn.manifold import TSNE\n",
    "from sklearn.svm import SVC\n",
    "from sklearn.pipeline import make_pipeline\n",
    "from sklearn.preprocessing import StandardScaler, MinMaxScaler\n",
    "from sklearn.preprocessing import LabelEncoder\n",
    "from sklearn.utils.class_weight import compute_class_weight\n",
    "from sklearn.decomposition import PCA\n",
    "from sklearn.metrics import accuracy_score, confusion_matrix\n",
    "from sklearn.linear_model import LogisticRegression, RidgeClassifier, SGDClassifier, Lasso\n",
    "from sklearn.model_selection import cross_val_score"
   ]
  },
  {
   "cell_type": "code",
   "execution_count": 2,
   "id": "ed42ee5f",
   "metadata": {},
   "outputs": [],
   "source": [
    "#This function is used to encode labels since labels are categorical.\n",
    "def encode_labels(labels):\n",
    "    le = LabelEncoder()\n",
    "    le.fit(labels)\n",
    "    encoded_labels = le.transform(labels)\n",
    "    \n",
    "    return encoded_labels, le\n",
    "\n",
    "def decode_labels(encoded_predict_labels, le):\n",
    "    test_predictions = le.inverse_transform(encoded_predict_labels)\n",
    "    \n",
    "    return test_predictions"
   ]
  },
  {
   "cell_type": "code",
   "execution_count": 3,
   "id": "d9d5ab07",
   "metadata": {},
   "outputs": [],
   "source": [
    "#Load data\n",
    "whole = sio.loadmat('whole_wolabels.mat')\n",
    "parts = sio.loadmat('parts_wolabels.mat')"
   ]
  },
  {
   "cell_type": "code",
   "execution_count": 4,
   "id": "8e574f87",
   "metadata": {},
   "outputs": [
    {
     "name": "stdout",
     "output_type": "stream",
     "text": [
      "7849\n",
      "1379\n"
     ]
    }
   ],
   "source": [
    "#whole\n",
    "\n",
    "#train\n",
    "train_classid = np.squeeze(whole['train_classid'])\n",
    "train_class_labels = []\n",
    "for item in train_classid:\n",
    "    train_class_labels.append(item[0])\n",
    "train_features = whole['train_feats']\n",
    "train_imid = whole['train_imgid']\n",
    "train_imgid = []\n",
    "for item in train_imid:\n",
    "    train_imgid.append(item[0])\n",
    "train_imgid = np.squeeze(train_imgid)\n",
    "train_sampleid = whole['train_sampleid']\n",
    "\n",
    "#validation\n",
    "validation_classid = np.squeeze(whole['val_classid'])\n",
    "validation_class_labels = []\n",
    "for item in validation_classid:\n",
    "    validation_class_labels.append(item[0])\n",
    "validation_features = whole['val_feats']\n",
    "validation_imid = whole['val_imgid']\n",
    "validation_imgid = []\n",
    "for item in validation_imid:\n",
    "    validation_imgid.append(item[0])\n",
    "validation_imgid = np.squeeze(validation_imgid)\n",
    "validation_sampleid = whole['val_sampleid']\n",
    "\n",
    "#test\n",
    "test_features = whole['test_feats']\n",
    "test_imid = whole['test_imgid']\n",
    "test_imgid = []\n",
    "for item in test_imid:\n",
    "    test_imgid.append(item[0])\n",
    "test_imgid = np.squeeze(test_imgid)\n",
    "test_sampleid = whole['test_sampleid']\n",
    "\n",
    "#encoded train labels\n",
    "train_labels, le = encode_labels(train_class_labels)\n",
    "print(len(train_labels))\n",
    "\n",
    "#encoded validation labels\n",
    "validation_labels = le.transform(validation_class_labels)\n",
    "print(len(validation_labels))"
   ]
  },
  {
   "cell_type": "code",
   "execution_count": 5,
   "id": "47df04ad",
   "metadata": {},
   "outputs": [],
   "source": [
    "#parts\n",
    "\n",
    "#train\n",
    "train_classid_parts = np.squeeze(parts['train_classid'])\n",
    "train_class_labels_parts = []\n",
    "for item in train_classid_parts:\n",
    "    train_class_labels_parts.append(item[0])\n",
    "train_features_parts = parts['train_feats']\n",
    "train_imid_parts = parts['train_imgid']\n",
    "train_imgid_parts = []\n",
    "for item in train_imid_parts:\n",
    "    train_imgid_parts.append(item[0])\n",
    "train_imgid_parts = np.squeeze(train_imgid_parts)\n",
    "train_sampleid_parts = parts['train_sampleid']\n",
    "train_tileid_parts = parts['train_tileid']\n",
    "\n",
    "#validation\n",
    "validation_classid_parts = np.squeeze(parts['val_classid'])\n",
    "validation_class_labels_parts = []\n",
    "for item in validation_classid_parts:\n",
    "    validation_class_labels_parts.append(item[0])\n",
    "validation_features_parts = parts['val_feats']\n",
    "validation_imid_parts = parts['val_imgid']\n",
    "validation_imgid_parts = []\n",
    "for item in validation_imid_parts:\n",
    "    validation_imgid_parts.append(item[0])\n",
    "validation_imgid_parts = np.squeeze(validation_imgid_parts)\n",
    "validation_sampleid_parts = parts['val_sampleid']\n",
    "validation_tileid_parts = parts['val_tileid']\n",
    "\n",
    "#test\n",
    "test_features_parts = parts['test_feats']\n",
    "test_imid_parts = parts['test_imgid']\n",
    "test_imgid_parts = []\n",
    "for item in test_imid_parts:\n",
    "    test_imgid_parts.append(item[0])\n",
    "test_imgid_parts = np.squeeze(test_imgid_parts)\n",
    "test_sampleid_parts = parts['test_sampleid']\n",
    "test_tileid_parts = parts['test_tileid']"
   ]
  },
  {
   "cell_type": "markdown",
   "id": "63287e92",
   "metadata": {},
   "source": [
    "combine features"
   ]
  },
  {
   "cell_type": "code",
   "execution_count": 6,
   "id": "5889c7a9",
   "metadata": {},
   "outputs": [
    {
     "name": "stdout",
     "output_type": "stream",
     "text": [
      "(9228, 384)\n",
      "9228\n",
      "(83052, 384)\n"
     ]
    }
   ],
   "source": [
    "# combine train and validation data\n",
    "\n",
    "#whole\n",
    "train_features = np.vstack((train_features, validation_features))\n",
    "print(train_features.shape)\n",
    "train_labels = np.array(list(train_labels) + list(validation_labels))\n",
    "print(len(train_labels))\n",
    "\n",
    "#parts\n",
    "train_features_parts = np.vstack((train_features_parts, validation_features_parts))\n",
    "print(train_features_parts.shape)"
   ]
  },
  {
   "cell_type": "markdown",
   "id": "ccbc1d65",
   "metadata": {},
   "source": [
    "Converting into bag representation"
   ]
  },
  {
   "cell_type": "code",
   "execution_count": 7,
   "id": "05a93990",
   "metadata": {},
   "outputs": [
    {
     "name": "stdout",
     "output_type": "stream",
     "text": [
      "83052 384\n",
      "(9228, 9, 384)\n",
      "22086 384\n",
      "(2454, 9, 384)\n"
     ]
    }
   ],
   "source": [
    "train_n, d = train_features_parts.shape\n",
    "print(train_n,d)\n",
    "train_features_parts_bags = train_features_parts.reshape(int(train_n/9), 9, d)\n",
    "print(train_features_parts_bags.shape)\n",
    "\n",
    "test_n, d = test_features_parts.shape\n",
    "print(test_n,d)\n",
    "test_features_parts_bags = test_features_parts.reshape(int(test_n/9), 9, d)\n",
    "print(test_features_parts_bags.shape)"
   ]
  },
  {
   "cell_type": "code",
   "execution_count": 9,
   "id": "93f39213",
   "metadata": {},
   "outputs": [
    {
     "name": "stdout",
     "output_type": "stream",
     "text": [
      "(9228, 3840)\n",
      "(2454, 3840)\n"
     ]
    }
   ],
   "source": [
    "combined_train_features = []\n",
    "combined_test_features = []\n",
    "for i in range(len(train_features_parts_bags)):\n",
    "    combined_train_features.append(np.concatenate((train_features[i], train_features_parts_bags[i]), axis=None))\n",
    "print(np.array(combined_train_features).shape)\n",
    "\n",
    "for i in range(len(test_features_parts_bags)):\n",
    "    combined_test_features.append(np.concatenate((test_features[i], test_features_parts_bags[i]), axis=None))\n",
    "print(np.array(combined_test_features).shape)"
   ]
  },
  {
   "cell_type": "markdown",
   "id": "7d7d99e7",
   "metadata": {},
   "source": [
    "combined features and Logistic Regression"
   ]
  },
  {
   "cell_type": "code",
   "execution_count": null,
   "id": "a167887a",
   "metadata": {},
   "outputs": [
    {
     "name": "stdout",
     "output_type": "stream",
     "text": [
      "PCA dimension: 1000\n",
      "cost parameter: 10\n"
     ]
    }
   ],
   "source": [
    "clf = LogisticRegression(C = c, solver = 'liblinear', class_weight = 'balanced', random_state=0)\n",
    "print(\"cost parameter:\", c)\n",
    "clf.fit(combined_train_features, train_labels)\n",
    "preds = clf.predict(combined_test_features)"
   ]
  },
  {
   "cell_type": "code",
   "execution_count": null,
   "id": "0229305e",
   "metadata": {},
   "outputs": [],
   "source": [
    "comb_feats_PCA_predictions_decoded = decode_labels(preds, le)\n",
    "print(comb_feats_PCA_predictions_decoded)\n",
    "print(len(comb_feats_PCA_predictions_decoded))"
   ]
  },
  {
   "cell_type": "code",
   "execution_count": null,
   "id": "3a9da1e0",
   "metadata": {},
   "outputs": [],
   "source": [
    "#Save final predictions in an excel file\n",
    "output_df = pd.DataFrame(comb_feats_PCA_predictions_decoded)\n",
    "output_df.to_csv('Task2_comb_feats_PCA_c10_d1000_LR_liblinear.csv', index=False,  header=False)"
   ]
  },
  {
   "cell_type": "code",
   "execution_count": null,
   "id": "b0de4b10",
   "metadata": {},
   "outputs": [],
   "source": []
  },
  {
   "cell_type": "markdown",
   "id": "8ee2aac1",
   "metadata": {},
   "source": [
    "PCA on combined features and Logistic Regression"
   ]
  },
  {
   "cell_type": "code",
   "execution_count": null,
   "id": "907dc936",
   "metadata": {},
   "outputs": [],
   "source": [
    "n_components = 1000\n",
    "c = 10\n",
    "pca = PCA(n_components=n_components)\n",
    "train_features_red = pca.fit_transform(combined_train_features)\n",
    "test_features_red = pca.transform(combined_test_features)\n",
    "print(\"PCA dimension:\", n_components)\n",
    "clf = LogisticRegression(C = c, solver = 'liblinear', class_weight = 'balanced', random_state=0)\n",
    "print(\"cost parameter:\", c)\n",
    "clf.fit(train_features_red, train_labels)\n",
    "preds_pca = clf.predict(test_features_red)"
   ]
  },
  {
   "cell_type": "code",
   "execution_count": null,
   "id": "26c1539c",
   "metadata": {},
   "outputs": [],
   "source": []
  },
  {
   "cell_type": "code",
   "execution_count": null,
   "id": "0ea083c5",
   "metadata": {},
   "outputs": [],
   "source": []
  },
  {
   "cell_type": "markdown",
   "id": "41f24599",
   "metadata": {},
   "source": [
    "Averaging by test sample id"
   ]
  },
  {
   "cell_type": "code",
   "execution_count": 31,
   "id": "6fd9c267",
   "metadata": {},
   "outputs": [],
   "source": [
    "nc, dc = np.array(combined_test_features).shape\n",
    "test_sampleid_index = []\n",
    "combined_test_features_sm = np.zeros((nc, dc))\n",
    "test_sampleid_list = np.squeeze(test_sampleid)\n",
    "\n",
    "for i in range(nc):\n",
    "    loc_sample_id = []\n",
    "    for j in range(nc):\n",
    "        if (test_sampleid_list[i] == test_sampleid_list[j]):\n",
    "            loc_sample_id.append(j)\n",
    "    test_sampleid_index.append(loc_sample_id)\n",
    "    \n",
    "for i in range(nc):\n",
    "    temp_test_features = np.zeros(dc)\n",
    "    for j in range(len(test_sampleid_index[i])):\n",
    "        temp_test_features += combined_test_features[test_sampleid_index[i][j]]\n",
    "    combined_test_features_sm[i] = temp_test_features/len(test_sampleid_index[i])\n",
    "\n",
    "print(combined_test_features_sm.shape)"
   ]
  },
  {
   "cell_type": "code",
   "execution_count": null,
   "id": "de9c2abf",
   "metadata": {},
   "outputs": [],
   "source": [
    "preds_sm = clf.predict(combined_test_features_sm)"
   ]
  },
  {
   "cell_type": "code",
   "execution_count": null,
   "id": "1a31bd46",
   "metadata": {},
   "outputs": [],
   "source": [
    "comb_feats_PCA_predictions_sm_decoded = decode_labels(preds_sm, le)\n",
    "print(comb_feats_PCA_predictions_sm_decoded)\n",
    "print(len(comb_feats_PCA_predictions_sm_decoded))"
   ]
  },
  {
   "cell_type": "code",
   "execution_count": null,
   "id": "db639e4b",
   "metadata": {},
   "outputs": [],
   "source": [
    "#Save final predictions in an excel file\n",
    "output_df = pd.DataFrame(comb_feats_PCA_predictions_sm_decoded)\n",
    "output_df.to_csv('Task2_comb_feats_PCA_c10_d1000_LR_liblinear_sm.csv', index=False,  header=False)"
   ]
  },
  {
   "cell_type": "code",
   "execution_count": null,
   "id": "6fd6510b",
   "metadata": {},
   "outputs": [],
   "source": []
  },
  {
   "cell_type": "code",
   "execution_count": null,
   "id": "18a20559",
   "metadata": {},
   "outputs": [],
   "source": []
  },
  {
   "cell_type": "code",
   "execution_count": null,
   "id": "4d6c5263",
   "metadata": {},
   "outputs": [],
   "source": []
  },
  {
   "cell_type": "code",
   "execution_count": null,
   "id": "52f692d0",
   "metadata": {},
   "outputs": [],
   "source": []
  },
  {
   "cell_type": "code",
   "execution_count": null,
   "id": "03dce4d7",
   "metadata": {},
   "outputs": [],
   "source": []
  },
  {
   "cell_type": "code",
   "execution_count": null,
   "id": "463660a6",
   "metadata": {},
   "outputs": [],
   "source": []
  },
  {
   "cell_type": "code",
   "execution_count": null,
   "id": "1a0b0f75",
   "metadata": {},
   "outputs": [],
   "source": []
  },
  {
   "cell_type": "code",
   "execution_count": null,
   "id": "0ea24609",
   "metadata": {},
   "outputs": [],
   "source": []
  },
  {
   "cell_type": "code",
   "execution_count": null,
   "id": "d9e44711",
   "metadata": {},
   "outputs": [],
   "source": []
  },
  {
   "cell_type": "code",
   "execution_count": null,
   "id": "d422a6b3",
   "metadata": {},
   "outputs": [],
   "source": []
  },
  {
   "cell_type": "code",
   "execution_count": null,
   "id": "3bb86ffd",
   "metadata": {},
   "outputs": [],
   "source": []
  },
  {
   "cell_type": "markdown",
   "id": "58ecb964",
   "metadata": {},
   "source": [
    "with sample id averaging"
   ]
  },
  {
   "cell_type": "code",
   "execution_count": 47,
   "id": "378544ee",
   "metadata": {},
   "outputs": [
    {
     "name": "stdout",
     "output_type": "stream",
     "text": [
      "0.873821609862219\n",
      "Mean class accuracy: 0.8501034174775537\n"
     ]
    }
   ],
   "source": [
    "clf = LogisticRegression(C = 10, solver = 'liblinear', class_weight = 'balanced', random_state=0)\n",
    "clf.fit(combined_train_features_sm, train_labels_bags)\n",
    "score = clf.score(combined_validation_features_sm, validation_labels_bags)\n",
    "print(score)\n",
    "preds = clf.predict(combined_validation_features_sm)\n",
    "mean_acc = mean_class_acc(preds, validation_labels_bags)\n",
    "print(\"Mean class accuracy:\", mean_acc)"
   ]
  },
  {
   "cell_type": "code",
   "execution_count": 48,
   "id": "278273e9",
   "metadata": {},
   "outputs": [
    {
     "name": "stdout",
     "output_type": "stream",
     "text": [
      "0.8730964467005076\n",
      "Mean class accuracy: 0.8496098340619564\n"
     ]
    }
   ],
   "source": [
    "clf = LogisticRegression(C = 20, solver = 'liblinear', class_weight = 'balanced', random_state=0)\n",
    "clf.fit(combined_train_features_sm, train_labels_bags)\n",
    "score = clf.score(combined_validation_features_sm, validation_labels_bags)\n",
    "print(score)\n",
    "preds = clf.predict(combined_validation_features_sm)\n",
    "mean_acc = mean_class_acc(preds, validation_labels_bags)\n",
    "print(\"Mean class accuracy:\", mean_acc)"
   ]
  },
  {
   "cell_type": "code",
   "execution_count": 49,
   "id": "0aa3c056",
   "metadata": {},
   "outputs": [
    {
     "name": "stdout",
     "output_type": "stream",
     "text": [
      "0.8701957940536621\n",
      "Mean class accuracy: 0.8451675833215814\n"
     ]
    }
   ],
   "source": [
    "clf = LogisticRegression(C = 30, solver = 'liblinear', class_weight = 'balanced', random_state=0)\n",
    "clf.fit(combined_train_features_sm, train_labels_bags)\n",
    "score = clf.score(combined_validation_features_sm, validation_labels_bags)\n",
    "print(score)\n",
    "preds = clf.predict(combined_validation_features_sm)\n",
    "mean_acc = mean_class_acc(preds, validation_labels_bags)\n",
    "print(\"Mean class accuracy:\", mean_acc)"
   ]
  },
  {
   "cell_type": "markdown",
   "id": "12355e7f",
   "metadata": {},
   "source": [
    "with minmax normaization"
   ]
  },
  {
   "cell_type": "code",
   "execution_count": 41,
   "id": "5a2169a0",
   "metadata": {},
   "outputs": [],
   "source": [
    "#0-1 normalization\n",
    "scalar = MinMaxScaler()\n",
    "combined_train_features_norm = scalar.fit_transform(combined_train_features)\n",
    "combined_validation_features_norm = scalar.transform(combined_validation_features)"
   ]
  },
  {
   "cell_type": "code",
   "execution_count": 42,
   "id": "ac8a6493",
   "metadata": {},
   "outputs": [
    {
     "name": "stdout",
     "output_type": "stream",
     "text": [
      "0.8658448150833937\n",
      "Mean class accuracy: 0.8383420298030367\n"
     ]
    }
   ],
   "source": [
    "clf = LogisticRegression(C = 10, solver = 'liblinear', class_weight = 'balanced', random_state=0)\n",
    "clf.fit(combined_train_features_norm, train_labels_bags)\n",
    "score = clf.score(combined_validation_features_norm, validation_labels_bags)\n",
    "print(score)\n",
    "preds = clf.predict(combined_validation_features_norm)\n",
    "mean_acc = mean_class_acc(preds, validation_labels_bags)\n",
    "print(\"Mean class accuracy:\", mean_acc)"
   ]
  },
  {
   "cell_type": "markdown",
   "id": "218913ce",
   "metadata": {},
   "source": [
    "with standard normalization"
   ]
  },
  {
   "cell_type": "code",
   "execution_count": 43,
   "id": "f6d1e594",
   "metadata": {},
   "outputs": [],
   "source": [
    "#0-1 normalization\n",
    "scalar = StandardScaler()\n",
    "combined_train_features_norm = scalar.fit_transform(combined_train_features)\n",
    "combined_validation_features_norm = scalar.transform(combined_validation_features)"
   ]
  },
  {
   "cell_type": "code",
   "execution_count": 44,
   "id": "ee945fa1",
   "metadata": {},
   "outputs": [
    {
     "name": "stdout",
     "output_type": "stream",
     "text": [
      "0.8672951414068165\n",
      "Mean class accuracy: 0.8381516476284492\n"
     ]
    }
   ],
   "source": [
    "clf = LogisticRegression(C = 10, solver = 'liblinear', class_weight = 'balanced', random_state=0)\n",
    "clf.fit(combined_train_features_norm, train_labels_bags)\n",
    "score = clf.score(combined_validation_features_norm, validation_labels_bags)\n",
    "print(score)\n",
    "preds = clf.predict(combined_validation_features_norm)\n",
    "mean_acc = mean_class_acc(preds, validation_labels_bags)\n",
    "print(\"Mean class accuracy:\", mean_acc)"
   ]
  },
  {
   "cell_type": "code",
   "execution_count": null,
   "id": "93aa0384",
   "metadata": {},
   "outputs": [],
   "source": []
  },
  {
   "cell_type": "code",
   "execution_count": null,
   "id": "746f88a0",
   "metadata": {},
   "outputs": [],
   "source": []
  },
  {
   "cell_type": "code",
   "execution_count": null,
   "id": "c636ba36",
   "metadata": {},
   "outputs": [],
   "source": [
    "print(train_sampleid_index)\n",
    "print(len(train_sampleid_index))"
   ]
  },
  {
   "cell_type": "code",
   "execution_count": null,
   "id": "d9592199",
   "metadata": {},
   "outputs": [],
   "source": [
    "for i in range(train_sampleid_index):\n",
    "    train_sampleid_index[i] = sorted(train_sampleid_index[i])"
   ]
  },
  {
   "cell_type": "code",
   "execution_count": null,
   "id": "9fd6e20a",
   "metadata": {},
   "outputs": [],
   "source": [
    "for i in range(nc):\n",
    "    for j in range(len(train_sampleid_index))\n",
    "        combined_train_features_sm ="
   ]
  },
  {
   "cell_type": "markdown",
   "id": "19eaaaf3",
   "metadata": {},
   "source": [
    "Ridge Classifier"
   ]
  },
  {
   "cell_type": "code",
   "execution_count": 22,
   "id": "a55c24d4",
   "metadata": {},
   "outputs": [
    {
     "name": "stdout",
     "output_type": "stream",
     "text": [
      "0.8433647570703409\n"
     ]
    }
   ],
   "source": [
    "clf = RidgeClassifier(class_weight = 'balanced', random_state=0)\n",
    "clf.fit(combined_train_features, train_labels_bags)\n",
    "score = clf.score(combined_validation_features, validation_labels_bags)\n",
    "print(score)"
   ]
  },
  {
   "cell_type": "markdown",
   "id": "17f333b1",
   "metadata": {},
   "source": [
    "Logistic Regression"
   ]
  },
  {
   "cell_type": "code",
   "execution_count": 23,
   "id": "f5f41f6b",
   "metadata": {},
   "outputs": [],
   "source": [
    "#0-1 normalization\n",
    "scalar = MinMaxScaler()\n",
    "combined_train_features_norm = scalar.fit_transform(combined_train_features)\n",
    "combined_validation_features_norm = scalar.transform(combined_validation_features)"
   ]
  },
  {
   "cell_type": "code",
   "execution_count": 24,
   "id": "1f4fdc24",
   "metadata": {},
   "outputs": [
    {
     "name": "stdout",
     "output_type": "stream",
     "text": [
      "0.8658448150833937\n"
     ]
    }
   ],
   "source": [
    "clf = LogisticRegression(C = 10, solver = 'liblinear', class_weight = 'balanced', random_state=0)\n",
    "clf.fit(combined_train_features_norm, train_labels_bags)\n",
    "score = clf.score(combined_validation_features_norm, validation_labels_bags)\n",
    "print(score)"
   ]
  },
  {
   "cell_type": "code",
   "execution_count": 28,
   "id": "d2f8932b",
   "metadata": {},
   "outputs": [
    {
     "name": "stdout",
     "output_type": "stream",
     "text": [
      "Mean class accuracy: 0.8383420298030367\n"
     ]
    }
   ],
   "source": [
    "preds = clf.predict(combined_validation_features_norm)\n",
    "mean_acc = mean_class_acc(preds, validation_labels_bags)\n",
    "print(\"Mean class accuracy:\", mean_acc)"
   ]
  },
  {
   "cell_type": "markdown",
   "id": "07c4b0b1",
   "metadata": {},
   "source": [
    "without scaling"
   ]
  },
  {
   "cell_type": "code",
   "execution_count": null,
   "id": "83802749",
   "metadata": {},
   "outputs": [],
   "source": [
    "clf = LogisticRegression(C = 10, solver = 'liblinear', class_weight = 'balanced', random_state=0)\n",
    "clf.fit(combined_train_features, train_labels_bags)\n",
    "score = clf.score(combined_validation_features, validation_labels_bags)\n",
    "print(score)\n",
    "preds = clf.predict(combined_validation_features)\n",
    "mean_acc = mean_class_acc(preds, validation_labels_bags)\n",
    "print(\"Mean class accuracy:\", mean_acc)"
   ]
  },
  {
   "cell_type": "markdown",
   "id": "3a39afd9",
   "metadata": {},
   "source": [
    "SGDClassifier"
   ]
  },
  {
   "cell_type": "code",
   "execution_count": 29,
   "id": "7259461c",
   "metadata": {},
   "outputs": [
    {
     "name": "stdout",
     "output_type": "stream",
     "text": [
      "Average class accuracy score: 0.7984046410442349\n",
      "Mean class accuracy: 0.7704766605556338\n"
     ]
    }
   ],
   "source": [
    "clf_sgd = make_pipeline(StandardScaler(), SGDClassifier(max_iter=10000, tol=1e-4, class_weight='balanced', random_state=0))\n",
    "clf_sgd.fit(combined_train_features, train_labels_bags)\n",
    "preds = clf_sgd.predict(combined_validation_features)\n",
    "score = clf_sgd.score(combined_validation_features, validation_labels_bags)\n",
    "print(\"Average class accuracy score:\", score)\n",
    "mean_acc = mean_class_acc(preds, validation_labels_bags)\n",
    "print(\"Mean class accuracy:\", mean_acc)"
   ]
  },
  {
   "cell_type": "markdown",
   "id": "4619a9f0",
   "metadata": {},
   "source": [
    "Random Forest"
   ]
  },
  {
   "cell_type": "code",
   "execution_count": null,
   "id": "4bbab9ee",
   "metadata": {},
   "outputs": [],
   "source": [
    "# evaluate random forest algorithm for classification\n",
    "from sklearn.ensemble import RandomForestClassifier\n",
    "\n",
    "# define the model\n",
    "model_RF = RandomForestClassifier(n_estimators = 100, class_weight = 'balanced')\n",
    "model_RF.fit(combined_train_features_norm, train_labels_bags)\n",
    "preds = model_RF.predict(combined_validation_features_norm)\n",
    "# evaluate the model\n",
    "score = model_RF.score(combined_validation_features_norm, validation_labels_bags)\n",
    "print('Accuracy: %.3f' % (score))\n",
    "mean_acc = mean_class_acc(preds, validation_labels_bags)\n",
    "print(\"Mean class accuracy:\", mean_acc)"
   ]
  },
  {
   "cell_type": "markdown",
   "id": "1e2e1e02",
   "metadata": {},
   "source": [
    "Apply MISVM in one-vs-all fashion"
   ]
  },
  {
   "cell_type": "code",
   "execution_count": null,
   "id": "541c57ee",
   "metadata": {},
   "outputs": [
    {
     "name": "stdout",
     "output_type": "stream",
     "text": [
      "0\n",
      "[   0    0    0 ... 1012 1012 1012]\n",
      "[0 1 2]\n",
      "3\n",
      "(3, 9, 384)\n",
      "(7846, 9, 384)\n",
      "(3,)\n",
      "(7846,)\n",
      "Non-random start...\n"
     ]
    }
   ],
   "source": [
    "#SVM classifier with threshold 0.3 and cost 10\n",
    "clf = misvm.MISVM(kernel='linear', C=1.0, max_iters=50)\n",
    "conf_matrix = np.zeros((len(validation_labels_bags), train_unique_labels_count))\n",
    "for j in range(train_unique_labels_count):\n",
    "    #print(train_unique_labels[j])\n",
    "    #print(train_labels_bags)\n",
    "    positive_labels_index = np.argwhere(np.isin(train_labels_bags, train_unique_labels[j])).ravel()\n",
    "    #print(positive_labels_index)\n",
    "    #print(len(positive_labels_index))\n",
    "    negative_labels_index = list(set(range(len(train_labels_bags))) - set(positive_labels_index))\n",
    "    positive_labels_embedding = train_features_parts_bags[positive_labels_index]\n",
    "    negative_labels_embedding = train_features_parts_bags[negative_labels_index]\n",
    "    positive_labels = 1*np.ones(len(positive_labels_index))\n",
    "    negative_labels = -1*np.ones(len(negative_labels_index))\n",
    "    train_embeddings_one = np.vstack((positive_labels_embedding, negative_labels_embedding))\n",
    "    #print(train_embeddings_one)\n",
    "    #print(positive_labels_embedding.shape)\n",
    "    #print(negative_labels_embedding.shape)\n",
    "    train_labels_one = np.concatenate((positive_labels, negative_labels))\n",
    "    #print(train_labels_one)\n",
    "    #print(positive_labels.shape)\n",
    "    #print(negative_labels.shape)\n",
    "    clf.fit(train_embeddings_one, train_labels_one)\n",
    "    preds = clf.predict(validation_features_parts_bags)\n",
    "    print(preds[0:5])\n",
    "    #print(conf_score)\n",
    "    conf_matrix[:,j] = preds"
   ]
  },
  {
   "cell_type": "code",
   "execution_count": null,
   "id": "cc7a560c",
   "metadata": {},
   "outputs": [],
   "source": [
    "predictions = np.zeros(len(validation_labels_bags))\n",
    "for k in range(len(validation_labels_bags)):\n",
    "    predictions[k] = train_unique_labels[np.argmax(conf_matrix[k])]"
   ]
  },
  {
   "cell_type": "code",
   "execution_count": null,
   "id": "beef33aa",
   "metadata": {},
   "outputs": [],
   "source": []
  }
 ],
 "metadata": {
  "kernelspec": {
   "display_name": "Python 3 (ipykernel)",
   "language": "python",
   "name": "python3"
  },
  "language_info": {
   "codemirror_mode": {
    "name": "ipython",
    "version": 3
   },
   "file_extension": ".py",
   "mimetype": "text/x-python",
   "name": "python",
   "nbconvert_exporter": "python",
   "pygments_lexer": "ipython3",
   "version": "3.7.9"
  }
 },
 "nbformat": 4,
 "nbformat_minor": 5
}
