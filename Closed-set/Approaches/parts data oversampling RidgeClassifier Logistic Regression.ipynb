{
 "cells": [
  {
   "cell_type": "code",
   "execution_count": 1,
   "id": "ec55a6ec",
   "metadata": {},
   "outputs": [],
   "source": [
    "#Load packages\n",
    "import pandas as pd\n",
    "import numpy as np\n",
    "import scipy.io as sio\n",
    "import random\n",
    "import scipy\n",
    "import matplotlib.pyplot as plt\n",
    "from collections import Counter\n",
    "from sklearn.manifold import TSNE\n",
    "from sklearn.svm import SVC\n",
    "from sklearn.pipeline import make_pipeline\n",
    "from sklearn.preprocessing import StandardScaler, MinMaxScaler, LabelEncoder\n",
    "from sklearn.utils.class_weight import compute_class_weight\n",
    "from sklearn.decomposition import PCA\n",
    "from sklearn.metrics import accuracy_score, confusion_matrix\n",
    "from sklearn.linear_model import LogisticRegression, RidgeClassifier, SGDClassifier\n",
    "from imblearn.pipeline import Pipeline\n",
    "from imblearn.under_sampling import RandomUnderSampler, TomekLinks\n",
    "from imblearn.over_sampling import SMOTE, ADASYN, BorderlineSMOTE\n",
    "from imblearn.combine import SMOTETomek, SMOTEENN"
   ]
  },
  {
   "cell_type": "code",
   "execution_count": 2,
   "id": "9858d0d4",
   "metadata": {},
   "outputs": [],
   "source": [
    "#This function is used to encode labels since labels are categorical.\n",
    "def encode_labels(labels):\n",
    "    le = LabelEncoder()\n",
    "    le.fit(labels)\n",
    "    encoded_labels = le.transform(labels)\n",
    "    \n",
    "    return encoded_labels, le\n",
    "\n",
    "def decode_labels(encoded_predict_labels, le):\n",
    "    test_predictions = le.inverse_transform(encoded_predict_labels)\n",
    "    \n",
    "    return test_predictions\n",
    "\n",
    "#Mean class accuracy\n",
    "def mean_class_acc(predictions, true_labels):\n",
    "    matrix = confusion_matrix(true_labels, predictions)\n",
    "    acc = matrix.diagonal()/matrix.sum(axis=1)\n",
    "\n",
    "    return sum(acc)/len(acc)"
   ]
  },
  {
   "cell_type": "code",
   "execution_count": 3,
   "id": "abd113dd",
   "metadata": {},
   "outputs": [],
   "source": [
    "#Load data\n",
    "whole = sio.loadmat('whole_wolabels.mat')"
   ]
  },
  {
   "cell_type": "code",
   "execution_count": 4,
   "id": "136e1174",
   "metadata": {},
   "outputs": [
    {
     "name": "stdout",
     "output_type": "stream",
     "text": [
      "7849\n",
      "1379\n"
     ]
    }
   ],
   "source": [
    "#whole\n",
    "\n",
    "#train\n",
    "train_classid = np.squeeze(whole['train_classid'])\n",
    "train_class_labels = []\n",
    "for item in train_classid:\n",
    "    train_class_labels.append(item[0])\n",
    "train_features = whole['train_feats']\n",
    "train_imid = whole['train_imgid']\n",
    "train_imgid = []\n",
    "for item in train_imid:\n",
    "    train_imgid.append(item[0])\n",
    "train_imgid = np.squeeze(train_imgid)\n",
    "train_sampleid = whole['train_sampleid']\n",
    "\n",
    "#validation\n",
    "validation_classid = np.squeeze(whole['val_classid'])\n",
    "validation_class_labels = []\n",
    "for item in validation_classid:\n",
    "    validation_class_labels.append(item[0])\n",
    "validation_features = whole['val_feats']\n",
    "validation_imid = whole['val_imgid']\n",
    "validation_imgid = []\n",
    "for item in validation_imid:\n",
    "    validation_imgid.append(item[0])\n",
    "validation_imgid = np.squeeze(validation_imgid)\n",
    "validation_sampleid = whole['val_sampleid']\n",
    "\n",
    "#test\n",
    "test_features = whole['test_feats']\n",
    "test_imid = whole['test_imgid']\n",
    "test_imgid = []\n",
    "for item in test_imid:\n",
    "    test_imgid.append(item[0])\n",
    "test_imgid = np.squeeze(test_imgid)\n",
    "test_sampleid = whole['test_sampleid']\n",
    "\n",
    "#encoded train labels\n",
    "train_labels, le = encode_labels(train_class_labels)\n",
    "print(len(train_labels))\n",
    "\n",
    "#encoded validation labels\n",
    "validation_labels = le.transform(validation_class_labels)\n",
    "print(len(validation_labels))"
   ]
  },
  {
   "cell_type": "code",
   "execution_count": null,
   "id": "c3a4eaa9",
   "metadata": {},
   "outputs": [],
   "source": [
    "#parts\n",
    "\n",
    "#train\n",
    "train_classid_parts = np.squeeze(parts['train_classid'])\n",
    "train_class_labels_parts = []\n",
    "for item in train_classid_parts:\n",
    "    train_class_labels_parts.append(item[0])\n",
    "train_features_parts = parts['train_feats']\n",
    "train_imid_parts = parts['train_imgid']\n",
    "train_imgid_parts = []\n",
    "for item in train_imid_parts:\n",
    "    train_imgid_parts.append(item[0])\n",
    "train_imgid_parts = np.squeeze(train_imgid_parts)\n",
    "train_sampleid_parts = parts['train_sampleid']\n",
    "train_tileid_parts = parts['train_tileid']\n",
    "\n",
    "#validation\n",
    "validation_classid_parts = np.squeeze(parts['val_classid'])\n",
    "validation_class_labels_parts = []\n",
    "for item in validation_classid_parts:\n",
    "    validation_class_labels_parts.append(item[0])\n",
    "validation_features_parts = parts['val_feats']\n",
    "validation_imid_parts = parts['val_imgid']\n",
    "validation_imgid_parts = []\n",
    "for item in validation_imid_parts:\n",
    "    validation_imgid_parts.append(item[0])\n",
    "validation_imgid_parts = np.squeeze(validation_imgid_parts)\n",
    "validation_sampleid_parts = parts['val_sampleid']\n",
    "validation_tileid_parts = parts['val_tileid']\n",
    "\n",
    "#test\n",
    "test_features_parts = parts['test_feats']\n",
    "test_imid_parts = parts['test_imgid']\n",
    "test_imgid_parts = []\n",
    "for item in test_imid_parts:\n",
    "    test_imgid_parts.append(item[0])\n",
    "test_imgid_parts = np.squeeze(test_imgid_parts)\n",
    "test_sampleid_parts = parts['test_sampleid']\n",
    "test_tileid_parts = parts['test_tileid']"
   ]
  },
  {
   "cell_type": "markdown",
   "id": "bdb607c4",
   "metadata": {},
   "source": [
    "See train distribution"
   ]
  },
  {
   "cell_type": "code",
   "execution_count": 5,
   "id": "b85db2c0",
   "metadata": {
    "scrolled": true
   },
   "outputs": [
    {
     "name": "stdout",
     "output_type": "stream",
     "text": [
      "Counter({526: 60, 344: 57, 677: 45, 517: 42, 715: 41, 92: 40, 283: 38, 584: 36, 890: 36, 712: 35, 95: 32, 535: 31, 183: 30, 343: 30, 441: 30, 606: 30, 634: 30, 80: 29, 99: 29, 556: 29, 532: 28, 85: 27, 992: 27, 489: 26, 639: 26, 684: 26, 41: 25, 692: 25, 898: 25, 215: 24, 288: 24, 421: 24, 720: 24, 91: 23, 104: 23, 349: 23, 409: 23, 669: 23, 48: 22, 190: 22, 348: 22, 470: 22, 529: 22, 907: 22, 984: 22, 93: 21, 258: 21, 326: 21, 430: 21, 534: 21, 24: 20, 198: 20, 265: 20, 378: 20, 388: 20, 511: 20, 522: 20, 96: 19, 102: 19, 120: 19, 331: 19, 351: 19, 389: 19, 420: 19, 664: 19, 926: 19, 39: 18, 137: 18, 157: 18, 304: 18, 347: 18, 374: 18, 461: 18, 468: 18, 519: 18, 543: 18, 559: 18, 582: 18, 775: 18, 828: 18, 920: 18, 121: 17, 148: 17, 346: 17, 376: 17, 435: 17, 467: 17, 483: 17, 537: 17, 863: 17, 86: 16, 89: 16, 225: 16, 273: 16, 296: 16, 354: 16, 397: 16, 440: 16, 460: 16, 727: 16, 732: 16, 745: 16, 876: 16, 883: 16, 888: 16, 892: 16, 158: 15, 168: 15, 221: 15, 236: 15, 249: 15, 291: 15, 457: 15, 505: 15, 707: 15, 731: 15, 753: 15, 827: 15, 996: 15, 1009: 15, 88: 14, 199: 14, 257: 14, 340: 14, 350: 14, 498: 14, 662: 14, 760: 14, 776: 14, 998: 14, 60: 13, 61: 13, 78: 13, 100: 13, 111: 13, 132: 13, 336: 13, 339: 13, 438: 13, 446: 13, 477: 13, 493: 13, 521: 13, 550: 13, 615: 13, 691: 13, 737: 13, 835: 13, 931: 13, 949: 13, 985: 13, 987: 13, 988: 13, 13: 12, 116: 12, 134: 12, 146: 12, 152: 12, 251: 12, 442: 12, 530: 12, 565: 12, 574: 12, 601: 12, 626: 12, 645: 12, 790: 12, 792: 12, 804: 12, 806: 12, 981: 12, 33: 11, 49: 11, 103: 11, 106: 11, 110: 11, 175: 11, 209: 11, 232: 11, 255: 11, 256: 11, 284: 11, 285: 11, 319: 11, 328: 11, 329: 11, 332: 11, 345: 11, 368: 11, 371: 11, 372: 11, 404: 11, 423: 11, 512: 11, 566: 11, 577: 11, 674: 11, 774: 11, 838: 11, 848: 11, 953: 11, 16: 10, 25: 10, 51: 10, 84: 10, 113: 10, 177: 10, 207: 10, 212: 10, 222: 10, 272: 10, 275: 10, 281: 10, 299: 10, 327: 10, 353: 10, 426: 10, 478: 10, 599: 10, 617: 10, 678: 10, 682: 10, 730: 10, 735: 10, 766: 10, 777: 10, 874: 10, 881: 10, 906: 10, 956: 10, 961: 10, 9: 9, 15: 9, 46: 9, 67: 9, 76: 9, 107: 9, 109: 9, 133: 9, 145: 9, 154: 9, 193: 9, 204: 9, 205: 9, 227: 9, 233: 9, 241: 9, 245: 9, 254: 9, 270: 9, 315: 9, 362: 9, 366: 9, 390: 9, 401: 9, 410: 9, 415: 9, 422: 9, 424: 9, 433: 9, 449: 9, 450: 9, 455: 9, 456: 9, 492: 9, 525: 9, 528: 9, 531: 9, 536: 9, 538: 9, 554: 9, 588: 9, 632: 9, 636: 9, 638: 9, 686: 9, 689: 9, 709: 9, 714: 9, 728: 9, 749: 9, 750: 9, 772: 9, 780: 9, 782: 9, 783: 9, 787: 9, 795: 9, 815: 9, 817: 9, 820: 9, 875: 9, 885: 9, 895: 9, 899: 9, 902: 9, 904: 9, 910: 9, 923: 9, 924: 9, 938: 9, 948: 9, 952: 9, 966: 9, 970: 9, 974: 9, 3: 8, 6: 8, 37: 8, 50: 8, 69: 8, 82: 8, 98: 8, 123: 8, 160: 8, 170: 8, 188: 8, 196: 8, 200: 8, 246: 8, 298: 8, 314: 8, 324: 8, 355: 8, 400: 8, 448: 8, 473: 8, 490: 8, 494: 8, 527: 8, 547: 8, 568: 8, 575: 8, 580: 8, 586: 8, 587: 8, 589: 8, 594: 8, 598: 8, 628: 8, 635: 8, 657: 8, 660: 8, 679: 8, 724: 8, 725: 8, 738: 8, 744: 8, 756: 8, 770: 8, 794: 8, 797: 8, 834: 8, 869: 8, 877: 8, 893: 8, 894: 8, 901: 8, 936: 8, 963: 8, 967: 8, 982: 8, 995: 8, 1002: 8, 1011: 8, 36: 7, 47: 7, 57: 7, 83: 7, 105: 7, 162: 7, 201: 7, 239: 7, 259: 7, 306: 7, 311: 7, 323: 7, 333: 7, 342: 7, 358: 7, 367: 7, 382: 7, 396: 7, 402: 7, 416: 7, 417: 7, 427: 7, 431: 7, 443: 7, 452: 7, 464: 7, 480: 7, 482: 7, 499: 7, 502: 7, 510: 7, 518: 7, 524: 7, 579: 7, 585: 7, 600: 7, 608: 7, 614: 7, 627: 7, 641: 7, 642: 7, 655: 7, 665: 7, 673: 7, 710: 7, 721: 7, 740: 7, 754: 7, 764: 7, 765: 7, 767: 7, 778: 7, 814: 7, 824: 7, 850: 7, 860: 7, 864: 7, 922: 7, 933: 7, 965: 7, 971: 7, 979: 7, 993: 7, 999: 7, 1005: 7, 1006: 7, 1010: 7, 2: 6, 20: 6, 23: 6, 45: 6, 55: 6, 72: 6, 115: 6, 119: 6, 127: 6, 128: 6, 131: 6, 153: 6, 174: 6, 185: 6, 187: 6, 189: 6, 202: 6, 213: 6, 220: 6, 226: 6, 230: 6, 266: 6, 271: 6, 276: 6, 277: 6, 289: 6, 294: 6, 335: 6, 338: 6, 360: 6, 365: 6, 429: 6, 436: 6, 458: 6, 459: 6, 465: 6, 485: 6, 487: 6, 533: 6, 552: 6, 571: 6, 572: 6, 581: 6, 590: 6, 592: 6, 595: 6, 603: 6, 618: 6, 621: 6, 631: 6, 646: 6, 651: 6, 668: 6, 675: 6, 688: 6, 697: 6, 711: 6, 718: 6, 733: 6, 757: 6, 758: 6, 773: 6, 788: 6, 808: 6, 836: 6, 837: 6, 842: 6, 851: 6, 870: 6, 887: 6, 897: 6, 903: 6, 909: 6, 914: 6, 939: 6, 950: 6, 960: 6, 968: 6, 969: 6, 972: 6, 983: 6, 4: 5, 8: 5, 21: 5, 28: 5, 31: 5, 40: 5, 53: 5, 58: 5, 75: 5, 79: 5, 87: 5, 97: 5, 117: 5, 136: 5, 143: 5, 171: 5, 172: 5, 192: 5, 195: 5, 210: 5, 228: 5, 237: 5, 242: 5, 263: 5, 267: 5, 278: 5, 279: 5, 293: 5, 300: 5, 313: 5, 341: 5, 383: 5, 391: 5, 394: 5, 406: 5, 407: 5, 412: 5, 413: 5, 466: 5, 481: 5, 488: 5, 500: 5, 503: 5, 506: 5, 507: 5, 513: 5, 555: 5, 602: 5, 609: 5, 620: 5, 630: 5, 652: 5, 656: 5, 667: 5, 671: 5, 676: 5, 694: 5, 698: 5, 713: 5, 734: 5, 747: 5, 762: 5, 763: 5, 768: 5, 771: 5, 779: 5, 781: 5, 786: 5, 791: 5, 793: 5, 796: 5, 802: 5, 803: 5, 812: 5, 816: 5, 829: 5, 832: 5, 844: 5, 862: 5, 868: 5, 905: 5, 908: 5, 928: 5, 929: 5, 930: 5, 932: 5, 942: 5, 957: 5, 959: 5, 978: 5, 986: 5, 7: 4, 11: 4, 14: 4, 22: 4, 26: 4, 35: 4, 38: 4, 42: 4, 43: 4, 62: 4, 65: 4, 68: 4, 73: 4, 74: 4, 81: 4, 112: 4, 114: 4, 125: 4, 129: 4, 138: 4, 139: 4, 141: 4, 144: 4, 149: 4, 150: 4, 155: 4, 156: 4, 159: 4, 165: 4, 169: 4, 176: 4, 179: 4, 182: 4, 184: 4, 203: 4, 211: 4, 214: 4, 216: 4, 218: 4, 219: 4, 235: 4, 238: 4, 248: 4, 260: 4, 261: 4, 262: 4, 264: 4, 268: 4, 295: 4, 297: 4, 301: 4, 308: 4, 310: 4, 317: 4, 330: 4, 357: 4, 361: 4, 373: 4, 375: 4, 377: 4, 380: 4, 381: 4, 384: 4, 392: 4, 398: 4, 403: 4, 408: 4, 418: 4, 432: 4, 437: 4, 444: 4, 445: 4, 451: 4, 453: 4, 462: 4, 471: 4, 472: 4, 484: 4, 486: 4, 491: 4, 495: 4, 496: 4, 497: 4, 501: 4, 504: 4, 523: 4, 539: 4, 541: 4, 561: 4, 563: 4, 564: 4, 570: 4, 573: 4, 578: 4, 593: 4, 604: 4, 607: 4, 611: 4, 613: 4, 616: 4, 622: 4, 623: 4, 624: 4, 643: 4, 647: 4, 650: 4, 658: 4, 666: 4, 670: 4, 685: 4, 696: 4, 705: 4, 706: 4, 708: 4, 719: 4, 722: 4, 723: 4, 739: 4, 741: 4, 742: 4, 746: 4, 769: 4, 789: 4, 798: 4, 799: 4, 800: 4, 807: 4, 810: 4, 811: 4, 813: 4, 818: 4, 819: 4, 822: 4, 823: 4, 825: 4, 833: 4, 839: 4, 840: 4, 846: 4, 847: 4, 849: 4, 858: 4, 859: 4, 865: 4, 867: 4, 871: 4, 878: 4, 879: 4, 880: 4, 882: 4, 884: 4, 886: 4, 896: 4, 911: 4, 913: 4, 918: 4, 925: 4, 934: 4, 947: 4, 951: 4, 958: 4, 975: 4, 980: 4, 990: 4, 994: 4, 1000: 4, 1003: 4, 1007: 4, 0: 3, 1: 3, 5: 3, 10: 3, 12: 3, 17: 3, 18: 3, 19: 3, 27: 3, 29: 3, 30: 3, 32: 3, 44: 3, 52: 3, 54: 3, 56: 3, 59: 3, 63: 3, 64: 3, 66: 3, 70: 3, 71: 3, 77: 3, 90: 3, 94: 3, 101: 3, 108: 3, 118: 3, 122: 3, 124: 3, 126: 3, 130: 3, 135: 3, 140: 3, 142: 3, 147: 3, 151: 3, 163: 3, 164: 3, 166: 3, 167: 3, 173: 3, 178: 3, 180: 3, 181: 3, 186: 3, 191: 3, 194: 3, 206: 3, 208: 3, 217: 3, 223: 3, 224: 3, 229: 3, 231: 3, 240: 3, 243: 3, 244: 3, 247: 3, 250: 3, 252: 3, 253: 3, 269: 3, 274: 3, 280: 3, 282: 3, 286: 3, 287: 3, 290: 3, 292: 3, 302: 3, 303: 3, 305: 3, 307: 3, 309: 3, 312: 3, 316: 3, 320: 3, 321: 3, 322: 3, 325: 3, 334: 3, 337: 3, 352: 3, 356: 3, 359: 3, 363: 3, 364: 3, 369: 3, 370: 3, 379: 3, 387: 3, 395: 3, 399: 3, 405: 3, 414: 3, 419: 3, 425: 3, 428: 3, 447: 3, 454: 3, 463: 3, 469: 3, 474: 3, 475: 3, 476: 3, 479: 3, 508: 3, 509: 3, 514: 3, 516: 3, 520: 3, 540: 3, 544: 3, 545: 3, 546: 3, 548: 3, 549: 3, 551: 3, 557: 3, 558: 3, 560: 3, 562: 3, 567: 3, 569: 3, 583: 3, 591: 3, 596: 3, 597: 3, 605: 3, 610: 3, 612: 3, 619: 3, 625: 3, 629: 3, 633: 3, 637: 3, 640: 3, 644: 3, 648: 3, 649: 3, 653: 3, 654: 3, 659: 3, 661: 3, 663: 3, 672: 3, 680: 3, 681: 3, 683: 3, 687: 3, 693: 3, 695: 3, 699: 3, 700: 3, 701: 3, 702: 3, 703: 3, 704: 3, 716: 3, 717: 3, 729: 3, 736: 3, 743: 3, 748: 3, 751: 3, 752: 3, 755: 3, 759: 3, 761: 3, 785: 3, 801: 3, 805: 3, 809: 3, 821: 3, 826: 3, 830: 3, 831: 3, 841: 3, 843: 3, 845: 3, 852: 3, 853: 3, 854: 3, 855: 3, 856: 3, 857: 3, 861: 3, 866: 3, 872: 3, 873: 3, 891: 3, 915: 3, 916: 3, 917: 3, 921: 3, 927: 3, 935: 3, 937: 3, 940: 3, 941: 3, 943: 3, 944: 3, 945: 3, 946: 3, 954: 3, 955: 3, 962: 3, 964: 3, 973: 3, 976: 3, 977: 3, 989: 3, 991: 3, 997: 3, 1001: 3, 1004: 3, 1008: 3, 1012: 3, 34: 2, 161: 2, 197: 2, 234: 2, 318: 2, 385: 2, 386: 2, 393: 2, 411: 2, 434: 2, 439: 2, 515: 2, 542: 2, 553: 2, 576: 2, 690: 2, 726: 2, 889: 2, 900: 2, 912: 2, 919: 2, 784: 1})\n"
     ]
    }
   ],
   "source": [
    "Count = Counter(train_labels)\n",
    "print(Count)"
   ]
  },
  {
   "cell_type": "code",
   "execution_count": null,
   "id": "1530a403",
   "metadata": {},
   "outputs": [],
   "source": [
    "train_n, d = train_features_parts.shape\n",
    "print(train_n,d)\n",
    "train_features_parts_bags = train_features_parts.reshape(int(train_n/9), 9*d)\n",
    "print(train_features_parts_bags.shape)\n",
    "\n",
    "val_n, d = validation_features_parts.shape\n",
    "print(val_n,d)\n",
    "validation_features_parts_bags = validation_features_parts.reshape(int(val_n/9), 9*d)\n",
    "print(validation_features_parts_bags.shape)"
   ]
  },
  {
   "cell_type": "code",
   "execution_count": null,
   "id": "76c64ca7",
   "metadata": {},
   "outputs": [],
   "source": [
    "#encoded train labels\n",
    "train_labels_bags, le_parts = encode_labels(train_class_labels)\n",
    "print(len(train_labels_bags))\n",
    "train_unique_labels = sorted(np.unique(train_labels_bags))\n",
    "train_unique_labels_count = len(train_unique_labels)\n",
    "print(\"Train unique labels count:\", train_unique_labels_count)\n",
    "\n",
    "#encoded validation labels\n",
    "validation_labels_bags = le_parts.transform(validation_class_labels)\n",
    "print(len(validation_labels_bags))\n",
    "validation_unique_labels = sorted(np.unique(validation_labels_bags))\n",
    "validation_unique_labels_count = len(validation_unique_labels)\n",
    "print(\"Validation unique labels count:\", validation_unique_labels_count)"
   ]
  },
  {
   "cell_type": "code",
   "execution_count": null,
   "id": "7677d725",
   "metadata": {},
   "outputs": [],
   "source": [
    "cost_param = [10, 15]\n",
    "N_components = [1000, 1100, 1200, 1300, 1400]\n",
    "combined_train_features = []\n",
    "combined_validation_features = []\n",
    "for i in range(len(train_features_parts_bags)):\n",
    "    combined_train_features.append(np.concatenate((train_features[i], train_features_parts_bags[i]), axis=None))\n",
    "print(np.array(combined_train_features).shape)\n",
    "\n",
    "for i in range(len(validation_features_parts_bags)):\n",
    "    combined_validation_features.append(np.concatenate((validation_features[i], validation_features_parts_bags[i]), axis=None))\n",
    "print(np.array(combined_validation_features).shape)\n",
    "\n",
    "for n_components in N_components:\n",
    "    pca = PCA(n_components=n_components)\n",
    "    train_features_red = pca.fit_transform(combined_train_features)\n",
    "    validation_features_red = pca.transform(combined_validation_features)\n",
    "    print(\"PCA dimension:\", n_components)\n",
    "    for c in cost_param:\n",
    "        clf = LogisticRegression(C = c, solver = 'liblinear', class_weight = 'balanced', random_state=0)\n",
    "        print(\"cost parameter:\", c)\n",
    "        clf.fit(combined_train_features, train_labels_bags)\n",
    "        score = clf.score(combined_validation_features, validation_labels_bags)\n",
    "        print(score)\n",
    "        preds = clf.predict(combined_validation_features)\n",
    "        mean_acc = mean_class_acc(preds, validation_labels_bags)\n",
    "        print(\"Mean class accuracy:\", mean_acc)"
   ]
  },
  {
   "cell_type": "code",
   "execution_count": 6,
   "id": "86fa7a63",
   "metadata": {},
   "outputs": [],
   "source": [
    "#normalization\n",
    "\n",
    "#minmax\n",
    "scalar_minmax = MinMaxScaler()\n",
    "train_features_norm_minmax = scalar_minmax.fit_transform(train_features)\n",
    "validation_features_norm_minmax = scalar_minmax.transform(validation_features)\n",
    "\n",
    "#z-score\n",
    "scalar_standard = StandardScaler()\n",
    "train_features_norm_standard = scalar_standard.fit_transform(train_features)\n",
    "validation_features_norm_standard = scalar_standard.transform(validation_features)"
   ]
  },
  {
   "cell_type": "markdown",
   "id": "6bd94d35",
   "metadata": {},
   "source": [
    "Barplot before SMOTE"
   ]
  },
  {
   "cell_type": "code",
   "execution_count": 7,
   "id": "4e8d2018",
   "metadata": {},
   "outputs": [
    {
     "data": {
      "text/plain": [
       "<AxesSubplot:>"
      ]
     },
     "execution_count": 7,
     "metadata": {},
     "output_type": "execute_result"
    },
    {
     "data": {
      "image/png": "[encoded data removed]",
      "text/plain": [
       "<Figure size 432x288 with 1 Axes>"
      ]
     },
     "metadata": {
      "needs_background": "light"
     },
     "output_type": "display_data"
    }
   ],
   "source": [
    "count = Counter(train_labels)\n",
    "df = pd.DataFrame.from_dict(count, orient='index')\n",
    "df.plot(kind='bar')"
   ]
  },
  {
   "cell_type": "markdown",
   "id": "5531184e",
   "metadata": {},
   "source": [
    "duplicating a label with sample count 1 to get oversampling working"
   ]
  },
  {
   "cell_type": "code",
   "execution_count": 8,
   "id": "a38d585a",
   "metadata": {
    "scrolled": true
   },
   "outputs": [
    {
     "name": "stdout",
     "output_type": "stream",
     "text": [
      "6322\n",
      "784\n",
      "7849 384\n",
      "(7850, 384)\n",
      "7850\n",
      "Counter({526: 60, 344: 57, 677: 45, 517: 42, 715: 41, 92: 40, 283: 38, 584: 36, 890: 36, 712: 35, 95: 32, 535: 31, 183: 30, 343: 30, 441: 30, 606: 30, 634: 30, 80: 29, 99: 29, 556: 29, 532: 28, 85: 27, 992: 27, 489: 26, 639: 26, 684: 26, 41: 25, 692: 25, 898: 25, 215: 24, 288: 24, 421: 24, 720: 24, 91: 23, 104: 23, 349: 23, 409: 23, 669: 23, 48: 22, 190: 22, 348: 22, 470: 22, 529: 22, 907: 22, 984: 22, 93: 21, 258: 21, 326: 21, 430: 21, 534: 21, 24: 20, 198: 20, 265: 20, 378: 20, 388: 20, 511: 20, 522: 20, 96: 19, 102: 19, 120: 19, 331: 19, 351: 19, 389: 19, 420: 19, 664: 19, 926: 19, 39: 18, 137: 18, 157: 18, 304: 18, 347: 18, 374: 18, 461: 18, 468: 18, 519: 18, 543: 18, 559: 18, 582: 18, 775: 18, 828: 18, 920: 18, 121: 17, 148: 17, 346: 17, 376: 17, 435: 17, 467: 17, 483: 17, 537: 17, 863: 17, 86: 16, 89: 16, 225: 16, 273: 16, 296: 16, 354: 16, 397: 16, 440: 16, 460: 16, 727: 16, 732: 16, 745: 16, 876: 16, 883: 16, 888: 16, 892: 16, 158: 15, 168: 15, 221: 15, 236: 15, 249: 15, 291: 15, 457: 15, 505: 15, 707: 15, 731: 15, 753: 15, 827: 15, 996: 15, 1009: 15, 88: 14, 199: 14, 257: 14, 340: 14, 350: 14, 498: 14, 662: 14, 760: 14, 776: 14, 998: 14, 60: 13, 61: 13, 78: 13, 100: 13, 111: 13, 132: 13, 336: 13, 339: 13, 438: 13, 446: 13, 477: 13, 493: 13, 521: 13, 550: 13, 615: 13, 691: 13, 737: 13, 835: 13, 931: 13, 949: 13, 985: 13, 987: 13, 988: 13, 13: 12, 116: 12, 134: 12, 146: 12, 152: 12, 251: 12, 442: 12, 530: 12, 565: 12, 574: 12, 601: 12, 626: 12, 645: 12, 790: 12, 792: 12, 804: 12, 806: 12, 981: 12, 33: 11, 49: 11, 103: 11, 106: 11, 110: 11, 175: 11, 209: 11, 232: 11, 255: 11, 256: 11, 284: 11, 285: 11, 319: 11, 328: 11, 329: 11, 332: 11, 345: 11, 368: 11, 371: 11, 372: 11, 404: 11, 423: 11, 512: 11, 566: 11, 577: 11, 674: 11, 774: 11, 838: 11, 848: 11, 953: 11, 16: 10, 25: 10, 51: 10, 84: 10, 113: 10, 177: 10, 207: 10, 212: 10, 222: 10, 272: 10, 275: 10, 281: 10, 299: 10, 327: 10, 353: 10, 426: 10, 478: 10, 599: 10, 617: 10, 678: 10, 682: 10, 730: 10, 735: 10, 766: 10, 777: 10, 874: 10, 881: 10, 906: 10, 956: 10, 961: 10, 9: 9, 15: 9, 46: 9, 67: 9, 76: 9, 107: 9, 109: 9, 133: 9, 145: 9, 154: 9, 193: 9, 204: 9, 205: 9, 227: 9, 233: 9, 241: 9, 245: 9, 254: 9, 270: 9, 315: 9, 362: 9, 366: 9, 390: 9, 401: 9, 410: 9, 415: 9, 422: 9, 424: 9, 433: 9, 449: 9, 450: 9, 455: 9, 456: 9, 492: 9, 525: 9, 528: 9, 531: 9, 536: 9, 538: 9, 554: 9, 588: 9, 632: 9, 636: 9, 638: 9, 686: 9, 689: 9, 709: 9, 714: 9, 728: 9, 749: 9, 750: 9, 772: 9, 780: 9, 782: 9, 783: 9, 787: 9, 795: 9, 815: 9, 817: 9, 820: 9, 875: 9, 885: 9, 895: 9, 899: 9, 902: 9, 904: 9, 910: 9, 923: 9, 924: 9, 938: 9, 948: 9, 952: 9, 966: 9, 970: 9, 974: 9, 3: 8, 6: 8, 37: 8, 50: 8, 69: 8, 82: 8, 98: 8, 123: 8, 160: 8, 170: 8, 188: 8, 196: 8, 200: 8, 246: 8, 298: 8, 314: 8, 324: 8, 355: 8, 400: 8, 448: 8, 473: 8, 490: 8, 494: 8, 527: 8, 547: 8, 568: 8, 575: 8, 580: 8, 586: 8, 587: 8, 589: 8, 594: 8, 598: 8, 628: 8, 635: 8, 657: 8, 660: 8, 679: 8, 724: 8, 725: 8, 738: 8, 744: 8, 756: 8, 770: 8, 794: 8, 797: 8, 834: 8, 869: 8, 877: 8, 893: 8, 894: 8, 901: 8, 936: 8, 963: 8, 967: 8, 982: 8, 995: 8, 1002: 8, 1011: 8, 36: 7, 47: 7, 57: 7, 83: 7, 105: 7, 162: 7, 201: 7, 239: 7, 259: 7, 306: 7, 311: 7, 323: 7, 333: 7, 342: 7, 358: 7, 367: 7, 382: 7, 396: 7, 402: 7, 416: 7, 417: 7, 427: 7, 431: 7, 443: 7, 452: 7, 464: 7, 480: 7, 482: 7, 499: 7, 502: 7, 510: 7, 518: 7, 524: 7, 579: 7, 585: 7, 600: 7, 608: 7, 614: 7, 627: 7, 641: 7, 642: 7, 655: 7, 665: 7, 673: 7, 710: 7, 721: 7, 740: 7, 754: 7, 764: 7, 765: 7, 767: 7, 778: 7, 814: 7, 824: 7, 850: 7, 860: 7, 864: 7, 922: 7, 933: 7, 965: 7, 971: 7, 979: 7, 993: 7, 999: 7, 1005: 7, 1006: 7, 1010: 7, 2: 6, 20: 6, 23: 6, 45: 6, 55: 6, 72: 6, 115: 6, 119: 6, 127: 6, 128: 6, 131: 6, 153: 6, 174: 6, 185: 6, 187: 6, 189: 6, 202: 6, 213: 6, 220: 6, 226: 6, 230: 6, 266: 6, 271: 6, 276: 6, 277: 6, 289: 6, 294: 6, 335: 6, 338: 6, 360: 6, 365: 6, 429: 6, 436: 6, 458: 6, 459: 6, 465: 6, 485: 6, 487: 6, 533: 6, 552: 6, 571: 6, 572: 6, 581: 6, 590: 6, 592: 6, 595: 6, 603: 6, 618: 6, 621: 6, 631: 6, 646: 6, 651: 6, 668: 6, 675: 6, 688: 6, 697: 6, 711: 6, 718: 6, 733: 6, 757: 6, 758: 6, 773: 6, 788: 6, 808: 6, 836: 6, 837: 6, 842: 6, 851: 6, 870: 6, 887: 6, 897: 6, 903: 6, 909: 6, 914: 6, 939: 6, 950: 6, 960: 6, 968: 6, 969: 6, 972: 6, 983: 6, 4: 5, 8: 5, 21: 5, 28: 5, 31: 5, 40: 5, 53: 5, 58: 5, 75: 5, 79: 5, 87: 5, 97: 5, 117: 5, 136: 5, 143: 5, 171: 5, 172: 5, 192: 5, 195: 5, 210: 5, 228: 5, 237: 5, 242: 5, 263: 5, 267: 5, 278: 5, 279: 5, 293: 5, 300: 5, 313: 5, 341: 5, 383: 5, 391: 5, 394: 5, 406: 5, 407: 5, 412: 5, 413: 5, 466: 5, 481: 5, 488: 5, 500: 5, 503: 5, 506: 5, 507: 5, 513: 5, 555: 5, 602: 5, 609: 5, 620: 5, 630: 5, 652: 5, 656: 5, 667: 5, 671: 5, 676: 5, 694: 5, 698: 5, 713: 5, 734: 5, 747: 5, 762: 5, 763: 5, 768: 5, 771: 5, 779: 5, 781: 5, 786: 5, 791: 5, 793: 5, 796: 5, 802: 5, 803: 5, 812: 5, 816: 5, 829: 5, 832: 5, 844: 5, 862: 5, 868: 5, 905: 5, 908: 5, 928: 5, 929: 5, 930: 5, 932: 5, 942: 5, 957: 5, 959: 5, 978: 5, 986: 5, 7: 4, 11: 4, 14: 4, 22: 4, 26: 4, 35: 4, 38: 4, 42: 4, 43: 4, 62: 4, 65: 4, 68: 4, 73: 4, 74: 4, 81: 4, 112: 4, 114: 4, 125: 4, 129: 4, 138: 4, 139: 4, 141: 4, 144: 4, 149: 4, 150: 4, 155: 4, 156: 4, 159: 4, 165: 4, 169: 4, 176: 4, 179: 4, 182: 4, 184: 4, 203: 4, 211: 4, 214: 4, 216: 4, 218: 4, 219: 4, 235: 4, 238: 4, 248: 4, 260: 4, 261: 4, 262: 4, 264: 4, 268: 4, 295: 4, 297: 4, 301: 4, 308: 4, 310: 4, 317: 4, 330: 4, 357: 4, 361: 4, 373: 4, 375: 4, 377: 4, 380: 4, 381: 4, 384: 4, 392: 4, 398: 4, 403: 4, 408: 4, 418: 4, 432: 4, 437: 4, 444: 4, 445: 4, 451: 4, 453: 4, 462: 4, 471: 4, 472: 4, 484: 4, 486: 4, 491: 4, 495: 4, 496: 4, 497: 4, 501: 4, 504: 4, 523: 4, 539: 4, 541: 4, 561: 4, 563: 4, 564: 4, 570: 4, 573: 4, 578: 4, 593: 4, 604: 4, 607: 4, 611: 4, 613: 4, 616: 4, 622: 4, 623: 4, 624: 4, 643: 4, 647: 4, 650: 4, 658: 4, 666: 4, 670: 4, 685: 4, 696: 4, 705: 4, 706: 4, 708: 4, 719: 4, 722: 4, 723: 4, 739: 4, 741: 4, 742: 4, 746: 4, 769: 4, 789: 4, 798: 4, 799: 4, 800: 4, 807: 4, 810: 4, 811: 4, 813: 4, 818: 4, 819: 4, 822: 4, 823: 4, 825: 4, 833: 4, 839: 4, 840: 4, 846: 4, 847: 4, 849: 4, 858: 4, 859: 4, 865: 4, 867: 4, 871: 4, 878: 4, 879: 4, 880: 4, 882: 4, 884: 4, 886: 4, 896: 4, 911: 4, 913: 4, 918: 4, 925: 4, 934: 4, 947: 4, 951: 4, 958: 4, 975: 4, 980: 4, 990: 4, 994: 4, 1000: 4, 1003: 4, 1007: 4, 0: 3, 1: 3, 5: 3, 10: 3, 12: 3, 17: 3, 18: 3, 19: 3, 27: 3, 29: 3, 30: 3, 32: 3, 44: 3, 52: 3, 54: 3, 56: 3, 59: 3, 63: 3, 64: 3, 66: 3, 70: 3, 71: 3, 77: 3, 90: 3, 94: 3, 101: 3, 108: 3, 118: 3, 122: 3, 124: 3, 126: 3, 130: 3, 135: 3, 140: 3, 142: 3, 147: 3, 151: 3, 163: 3, 164: 3, 166: 3, 167: 3, 173: 3, 178: 3, 180: 3, 181: 3, 186: 3, 191: 3, 194: 3, 206: 3, 208: 3, 217: 3, 223: 3, 224: 3, 229: 3, 231: 3, 240: 3, 243: 3, 244: 3, 247: 3, 250: 3, 252: 3, 253: 3, 269: 3, 274: 3, 280: 3, 282: 3, 286: 3, 287: 3, 290: 3, 292: 3, 302: 3, 303: 3, 305: 3, 307: 3, 309: 3, 312: 3, 316: 3, 320: 3, 321: 3, 322: 3, 325: 3, 334: 3, 337: 3, 352: 3, 356: 3, 359: 3, 363: 3, 364: 3, 369: 3, 370: 3, 379: 3, 387: 3, 395: 3, 399: 3, 405: 3, 414: 3, 419: 3, 425: 3, 428: 3, 447: 3, 454: 3, 463: 3, 469: 3, 474: 3, 475: 3, 476: 3, 479: 3, 508: 3, 509: 3, 514: 3, 516: 3, 520: 3, 540: 3, 544: 3, 545: 3, 546: 3, 548: 3, 549: 3, 551: 3, 557: 3, 558: 3, 560: 3, 562: 3, 567: 3, 569: 3, 583: 3, 591: 3, 596: 3, 597: 3, 605: 3, 610: 3, 612: 3, 619: 3, 625: 3, 629: 3, 633: 3, 637: 3, 640: 3, 644: 3, 648: 3, 649: 3, 653: 3, 654: 3, 659: 3, 661: 3, 663: 3, 672: 3, 680: 3, 681: 3, 683: 3, 687: 3, 693: 3, 695: 3, 699: 3, 700: 3, 701: 3, 702: 3, 703: 3, 704: 3, 716: 3, 717: 3, 729: 3, 736: 3, 743: 3, 748: 3, 751: 3, 752: 3, 755: 3, 759: 3, 761: 3, 785: 3, 801: 3, 805: 3, 809: 3, 821: 3, 826: 3, 830: 3, 831: 3, 841: 3, 843: 3, 845: 3, 852: 3, 853: 3, 854: 3, 855: 3, 856: 3, 857: 3, 861: 3, 866: 3, 872: 3, 873: 3, 891: 3, 915: 3, 916: 3, 917: 3, 921: 3, 927: 3, 935: 3, 937: 3, 940: 3, 941: 3, 943: 3, 944: 3, 945: 3, 946: 3, 954: 3, 955: 3, 962: 3, 964: 3, 973: 3, 976: 3, 977: 3, 989: 3, 991: 3, 997: 3, 1001: 3, 1004: 3, 1008: 3, 1012: 3, 34: 2, 161: 2, 197: 2, 234: 2, 318: 2, 385: 2, 386: 2, 393: 2, 411: 2, 434: 2, 439: 2, 515: 2, 542: 2, 553: 2, 576: 2, 690: 2, 726: 2, 784: 2, 889: 2, 900: 2, 912: 2, 919: 2})\n"
     ]
    }
   ],
   "source": [
    "index = np.where(train_labels == 784)[0][0]\n",
    "print(index)\n",
    "print(train_labels[index])\n",
    "\n",
    "n, d = train_features_norm_minmax.shape\n",
    "print(n,d)\n",
    "\n",
    "train_features_sm = np.zeros((n+1, d))\n",
    "train_features_sm[:n,:] = train_features_norm_minmax\n",
    "train_features_sm[n,:] = train_features_norm_minmax[index]\n",
    "train_labels_sm = np.array(list(train_labels) + [train_labels[index]])\n",
    "\n",
    "print(train_features_sm.shape)\n",
    "print(len(train_labels_sm))\n",
    "print(Counter(train_labels_sm))"
   ]
  },
  {
   "cell_type": "markdown",
   "id": "02c3955e",
   "metadata": {},
   "source": [
    "Oversampling with SMOTE sampling strategy = 'minority'"
   ]
  },
  {
   "cell_type": "code",
   "execution_count": 9,
   "id": "4c53d634",
   "metadata": {},
   "outputs": [],
   "source": [
    "train_features_sm_minority = train_features_sm\n",
    "train_labels_sm_minority = train_labels_sm\n",
    "sm_minority = SMOTE(sampling_strategy = 'minority', k_neighbors=1, random_state=42)\n",
    "for i in range(30):\n",
    "    train_features_sm_minority, train_labels_sm_minority = sm_minority.fit_resample(train_features_sm_minority, train_labels_sm_minority)"
   ]
  },
  {
   "cell_type": "markdown",
   "id": "01103d48",
   "metadata": {},
   "source": [
    "Barplot after Oversampling with SMOTE sampling strategy = 'minority'"
   ]
  },
  {
   "cell_type": "code",
   "execution_count": 10,
   "id": "c5f7f39e",
   "metadata": {},
   "outputs": [
    {
     "name": "stdout",
     "output_type": "stream",
     "text": [
      "(9582, 384)\n",
      "(9582,)\n"
     ]
    },
    {
     "data": {
      "text/plain": [
       "<AxesSubplot:>"
      ]
     },
     "execution_count": 10,
     "metadata": {},
     "output_type": "execute_result"
    },
    {
     "data": {
      "image/png": "[encoded data removed]",
      "text/plain": [
       "<Figure size 432x288 with 1 Axes>"
      ]
     },
     "metadata": {
      "needs_background": "light"
     },
     "output_type": "display_data"
    }
   ],
   "source": [
    "print(train_features_sm_minority.shape)\n",
    "print(train_labels_sm_minority.shape)\n",
    "\n",
    "count = Counter(train_labels_sm_minority)\n",
    "df = pd.DataFrame.from_dict(count, orient='index')\n",
    "df.plot(kind='bar')"
   ]
  },
  {
   "cell_type": "code",
   "execution_count": 11,
   "id": "4e4b5a6b",
   "metadata": {
    "scrolled": true
   },
   "outputs": [
    {
     "name": "stdout",
     "output_type": "stream",
     "text": [
      "Counter({0: 60, 1: 60, 5: 60, 10: 60, 12: 60, 17: 60, 18: 60, 19: 60, 34: 60, 161: 60, 197: 60, 234: 60, 318: 60, 385: 60, 386: 60, 393: 60, 411: 60, 434: 60, 439: 60, 515: 60, 526: 60, 542: 60, 553: 60, 576: 60, 690: 60, 726: 60, 784: 60, 889: 60, 900: 60, 912: 60, 919: 60, 344: 57, 677: 45, 517: 42, 715: 41, 92: 40, 283: 38, 584: 36, 890: 36, 712: 35, 95: 32, 535: 31, 183: 30, 343: 30, 441: 30, 606: 30, 634: 30, 80: 29, 99: 29, 556: 29, 532: 28, 85: 27, 992: 27, 489: 26, 639: 26, 684: 26, 41: 25, 692: 25, 898: 25, 215: 24, 288: 24, 421: 24, 720: 24, 91: 23, 104: 23, 349: 23, 409: 23, 669: 23, 48: 22, 190: 22, 348: 22, 470: 22, 529: 22, 907: 22, 984: 22, 93: 21, 258: 21, 326: 21, 430: 21, 534: 21, 24: 20, 198: 20, 265: 20, 378: 20, 388: 20, 511: 20, 522: 20, 96: 19, 102: 19, 120: 19, 331: 19, 351: 19, 389: 19, 420: 19, 664: 19, 926: 19, 39: 18, 137: 18, 157: 18, 304: 18, 347: 18, 374: 18, 461: 18, 468: 18, 519: 18, 543: 18, 559: 18, 582: 18, 775: 18, 828: 18, 920: 18, 121: 17, 148: 17, 346: 17, 376: 17, 435: 17, 467: 17, 483: 17, 537: 17, 863: 17, 86: 16, 89: 16, 225: 16, 273: 16, 296: 16, 354: 16, 397: 16, 440: 16, 460: 16, 727: 16, 732: 16, 745: 16, 876: 16, 883: 16, 888: 16, 892: 16, 158: 15, 168: 15, 221: 15, 236: 15, 249: 15, 291: 15, 457: 15, 505: 15, 707: 15, 731: 15, 753: 15, 827: 15, 996: 15, 1009: 15, 88: 14, 199: 14, 257: 14, 340: 14, 350: 14, 498: 14, 662: 14, 760: 14, 776: 14, 998: 14, 60: 13, 61: 13, 78: 13, 100: 13, 111: 13, 132: 13, 336: 13, 339: 13, 438: 13, 446: 13, 477: 13, 493: 13, 521: 13, 550: 13, 615: 13, 691: 13, 737: 13, 835: 13, 931: 13, 949: 13, 985: 13, 987: 13, 988: 13, 13: 12, 116: 12, 134: 12, 146: 12, 152: 12, 251: 12, 442: 12, 530: 12, 565: 12, 574: 12, 601: 12, 626: 12, 645: 12, 790: 12, 792: 12, 804: 12, 806: 12, 981: 12, 33: 11, 49: 11, 103: 11, 106: 11, 110: 11, 175: 11, 209: 11, 232: 11, 255: 11, 256: 11, 284: 11, 285: 11, 319: 11, 328: 11, 329: 11, 332: 11, 345: 11, 368: 11, 371: 11, 372: 11, 404: 11, 423: 11, 512: 11, 566: 11, 577: 11, 674: 11, 774: 11, 838: 11, 848: 11, 953: 11, 16: 10, 25: 10, 51: 10, 84: 10, 113: 10, 177: 10, 207: 10, 212: 10, 222: 10, 272: 10, 275: 10, 281: 10, 299: 10, 327: 10, 353: 10, 426: 10, 478: 10, 599: 10, 617: 10, 678: 10, 682: 10, 730: 10, 735: 10, 766: 10, 777: 10, 874: 10, 881: 10, 906: 10, 956: 10, 961: 10, 9: 9, 15: 9, 46: 9, 67: 9, 76: 9, 107: 9, 109: 9, 133: 9, 145: 9, 154: 9, 193: 9, 204: 9, 205: 9, 227: 9, 233: 9, 241: 9, 245: 9, 254: 9, 270: 9, 315: 9, 362: 9, 366: 9, 390: 9, 401: 9, 410: 9, 415: 9, 422: 9, 424: 9, 433: 9, 449: 9, 450: 9, 455: 9, 456: 9, 492: 9, 525: 9, 528: 9, 531: 9, 536: 9, 538: 9, 554: 9, 588: 9, 632: 9, 636: 9, 638: 9, 686: 9, 689: 9, 709: 9, 714: 9, 728: 9, 749: 9, 750: 9, 772: 9, 780: 9, 782: 9, 783: 9, 787: 9, 795: 9, 815: 9, 817: 9, 820: 9, 875: 9, 885: 9, 895: 9, 899: 9, 902: 9, 904: 9, 910: 9, 923: 9, 924: 9, 938: 9, 948: 9, 952: 9, 966: 9, 970: 9, 974: 9, 3: 8, 6: 8, 37: 8, 50: 8, 69: 8, 82: 8, 98: 8, 123: 8, 160: 8, 170: 8, 188: 8, 196: 8, 200: 8, 246: 8, 298: 8, 314: 8, 324: 8, 355: 8, 400: 8, 448: 8, 473: 8, 490: 8, 494: 8, 527: 8, 547: 8, 568: 8, 575: 8, 580: 8, 586: 8, 587: 8, 589: 8, 594: 8, 598: 8, 628: 8, 635: 8, 657: 8, 660: 8, 679: 8, 724: 8, 725: 8, 738: 8, 744: 8, 756: 8, 770: 8, 794: 8, 797: 8, 834: 8, 869: 8, 877: 8, 893: 8, 894: 8, 901: 8, 936: 8, 963: 8, 967: 8, 982: 8, 995: 8, 1002: 8, 1011: 8, 36: 7, 47: 7, 57: 7, 83: 7, 105: 7, 162: 7, 201: 7, 239: 7, 259: 7, 306: 7, 311: 7, 323: 7, 333: 7, 342: 7, 358: 7, 367: 7, 382: 7, 396: 7, 402: 7, 416: 7, 417: 7, 427: 7, 431: 7, 443: 7, 452: 7, 464: 7, 480: 7, 482: 7, 499: 7, 502: 7, 510: 7, 518: 7, 524: 7, 579: 7, 585: 7, 600: 7, 608: 7, 614: 7, 627: 7, 641: 7, 642: 7, 655: 7, 665: 7, 673: 7, 710: 7, 721: 7, 740: 7, 754: 7, 764: 7, 765: 7, 767: 7, 778: 7, 814: 7, 824: 7, 850: 7, 860: 7, 864: 7, 922: 7, 933: 7, 965: 7, 971: 7, 979: 7, 993: 7, 999: 7, 1005: 7, 1006: 7, 1010: 7, 2: 6, 20: 6, 23: 6, 45: 6, 55: 6, 72: 6, 115: 6, 119: 6, 127: 6, 128: 6, 131: 6, 153: 6, 174: 6, 185: 6, 187: 6, 189: 6, 202: 6, 213: 6, 220: 6, 226: 6, 230: 6, 266: 6, 271: 6, 276: 6, 277: 6, 289: 6, 294: 6, 335: 6, 338: 6, 360: 6, 365: 6, 429: 6, 436: 6, 458: 6, 459: 6, 465: 6, 485: 6, 487: 6, 533: 6, 552: 6, 571: 6, 572: 6, 581: 6, 590: 6, 592: 6, 595: 6, 603: 6, 618: 6, 621: 6, 631: 6, 646: 6, 651: 6, 668: 6, 675: 6, 688: 6, 697: 6, 711: 6, 718: 6, 733: 6, 757: 6, 758: 6, 773: 6, 788: 6, 808: 6, 836: 6, 837: 6, 842: 6, 851: 6, 870: 6, 887: 6, 897: 6, 903: 6, 909: 6, 914: 6, 939: 6, 950: 6, 960: 6, 968: 6, 969: 6, 972: 6, 983: 6, 4: 5, 8: 5, 21: 5, 28: 5, 31: 5, 40: 5, 53: 5, 58: 5, 75: 5, 79: 5, 87: 5, 97: 5, 117: 5, 136: 5, 143: 5, 171: 5, 172: 5, 192: 5, 195: 5, 210: 5, 228: 5, 237: 5, 242: 5, 263: 5, 267: 5, 278: 5, 279: 5, 293: 5, 300: 5, 313: 5, 341: 5, 383: 5, 391: 5, 394: 5, 406: 5, 407: 5, 412: 5, 413: 5, 466: 5, 481: 5, 488: 5, 500: 5, 503: 5, 506: 5, 507: 5, 513: 5, 555: 5, 602: 5, 609: 5, 620: 5, 630: 5, 652: 5, 656: 5, 667: 5, 671: 5, 676: 5, 694: 5, 698: 5, 713: 5, 734: 5, 747: 5, 762: 5, 763: 5, 768: 5, 771: 5, 779: 5, 781: 5, 786: 5, 791: 5, 793: 5, 796: 5, 802: 5, 803: 5, 812: 5, 816: 5, 829: 5, 832: 5, 844: 5, 862: 5, 868: 5, 905: 5, 908: 5, 928: 5, 929: 5, 930: 5, 932: 5, 942: 5, 957: 5, 959: 5, 978: 5, 986: 5, 7: 4, 11: 4, 14: 4, 22: 4, 26: 4, 35: 4, 38: 4, 42: 4, 43: 4, 62: 4, 65: 4, 68: 4, 73: 4, 74: 4, 81: 4, 112: 4, 114: 4, 125: 4, 129: 4, 138: 4, 139: 4, 141: 4, 144: 4, 149: 4, 150: 4, 155: 4, 156: 4, 159: 4, 165: 4, 169: 4, 176: 4, 179: 4, 182: 4, 184: 4, 203: 4, 211: 4, 214: 4, 216: 4, 218: 4, 219: 4, 235: 4, 238: 4, 248: 4, 260: 4, 261: 4, 262: 4, 264: 4, 268: 4, 295: 4, 297: 4, 301: 4, 308: 4, 310: 4, 317: 4, 330: 4, 357: 4, 361: 4, 373: 4, 375: 4, 377: 4, 380: 4, 381: 4, 384: 4, 392: 4, 398: 4, 403: 4, 408: 4, 418: 4, 432: 4, 437: 4, 444: 4, 445: 4, 451: 4, 453: 4, 462: 4, 471: 4, 472: 4, 484: 4, 486: 4, 491: 4, 495: 4, 496: 4, 497: 4, 501: 4, 504: 4, 523: 4, 539: 4, 541: 4, 561: 4, 563: 4, 564: 4, 570: 4, 573: 4, 578: 4, 593: 4, 604: 4, 607: 4, 611: 4, 613: 4, 616: 4, 622: 4, 623: 4, 624: 4, 643: 4, 647: 4, 650: 4, 658: 4, 666: 4, 670: 4, 685: 4, 696: 4, 705: 4, 706: 4, 708: 4, 719: 4, 722: 4, 723: 4, 739: 4, 741: 4, 742: 4, 746: 4, 769: 4, 789: 4, 798: 4, 799: 4, 800: 4, 807: 4, 810: 4, 811: 4, 813: 4, 818: 4, 819: 4, 822: 4, 823: 4, 825: 4, 833: 4, 839: 4, 840: 4, 846: 4, 847: 4, 849: 4, 858: 4, 859: 4, 865: 4, 867: 4, 871: 4, 878: 4, 879: 4, 880: 4, 882: 4, 884: 4, 886: 4, 896: 4, 911: 4, 913: 4, 918: 4, 925: 4, 934: 4, 947: 4, 951: 4, 958: 4, 975: 4, 980: 4, 990: 4, 994: 4, 1000: 4, 1003: 4, 1007: 4, 27: 3, 29: 3, 30: 3, 32: 3, 44: 3, 52: 3, 54: 3, 56: 3, 59: 3, 63: 3, 64: 3, 66: 3, 70: 3, 71: 3, 77: 3, 90: 3, 94: 3, 101: 3, 108: 3, 118: 3, 122: 3, 124: 3, 126: 3, 130: 3, 135: 3, 140: 3, 142: 3, 147: 3, 151: 3, 163: 3, 164: 3, 166: 3, 167: 3, 173: 3, 178: 3, 180: 3, 181: 3, 186: 3, 191: 3, 194: 3, 206: 3, 208: 3, 217: 3, 223: 3, 224: 3, 229: 3, 231: 3, 240: 3, 243: 3, 244: 3, 247: 3, 250: 3, 252: 3, 253: 3, 269: 3, 274: 3, 280: 3, 282: 3, 286: 3, 287: 3, 290: 3, 292: 3, 302: 3, 303: 3, 305: 3, 307: 3, 309: 3, 312: 3, 316: 3, 320: 3, 321: 3, 322: 3, 325: 3, 334: 3, 337: 3, 352: 3, 356: 3, 359: 3, 363: 3, 364: 3, 369: 3, 370: 3, 379: 3, 387: 3, 395: 3, 399: 3, 405: 3, 414: 3, 419: 3, 425: 3, 428: 3, 447: 3, 454: 3, 463: 3, 469: 3, 474: 3, 475: 3, 476: 3, 479: 3, 508: 3, 509: 3, 514: 3, 516: 3, 520: 3, 540: 3, 544: 3, 545: 3, 546: 3, 548: 3, 549: 3, 551: 3, 557: 3, 558: 3, 560: 3, 562: 3, 567: 3, 569: 3, 583: 3, 591: 3, 596: 3, 597: 3, 605: 3, 610: 3, 612: 3, 619: 3, 625: 3, 629: 3, 633: 3, 637: 3, 640: 3, 644: 3, 648: 3, 649: 3, 653: 3, 654: 3, 659: 3, 661: 3, 663: 3, 672: 3, 680: 3, 681: 3, 683: 3, 687: 3, 693: 3, 695: 3, 699: 3, 700: 3, 701: 3, 702: 3, 703: 3, 704: 3, 716: 3, 717: 3, 729: 3, 736: 3, 743: 3, 748: 3, 751: 3, 752: 3, 755: 3, 759: 3, 761: 3, 785: 3, 801: 3, 805: 3, 809: 3, 821: 3, 826: 3, 830: 3, 831: 3, 841: 3, 843: 3, 845: 3, 852: 3, 853: 3, 854: 3, 855: 3, 856: 3, 857: 3, 861: 3, 866: 3, 872: 3, 873: 3, 891: 3, 915: 3, 916: 3, 917: 3, 921: 3, 927: 3, 935: 3, 937: 3, 940: 3, 941: 3, 943: 3, 944: 3, 945: 3, 946: 3, 954: 3, 955: 3, 962: 3, 964: 3, 973: 3, 976: 3, 977: 3, 989: 3, 991: 3, 997: 3, 1001: 3, 1004: 3, 1008: 3, 1012: 3})\n"
     ]
    }
   ],
   "source": [
    "# SMOTE oversampling_strategy = minority\n",
    "print(Counter(train_labels_sm_minority))"
   ]
  },
  {
   "cell_type": "markdown",
   "id": "8f4845ae",
   "metadata": {},
   "source": [
    "Combining oversampling with undersampling using SMOTE \n",
    "\n",
    "https://machinelearningmastery.com/smote-oversampling-for-imbalanced-classification/\n",
    "\n",
    "https://machinelearningmastery.com/combine-oversampling-and-undersampling-for-imbalanced-classification/"
   ]
  },
  {
   "cell_type": "markdown",
   "id": "d674ecb9",
   "metadata": {},
   "source": [
    "oversampling: SMOTE, undersampling: RandomUndersampler"
   ]
  },
  {
   "cell_type": "code",
   "execution_count": 56,
   "id": "7129dc3e",
   "metadata": {},
   "outputs": [],
   "source": [
    "# define pipeline\n",
    "over = SMOTE(sampling_strategy='minority', k_neighbors=1, random_state=42)\n",
    "under = RandomUnderSampler(sampling_strategy='majority')\n",
    "steps = [('o', over), ('u', under)]\n",
    "pipeline_sm_rus = Pipeline(steps=steps)\n",
    "\n",
    "train_features_sm_rus = train_features_sm\n",
    "train_labels_sm_rus = train_labels_sm\n",
    "\n",
    "for i in range(30):\n",
    "    train_features_sm_rus, train_labels_sm_rus = pipeline_sm_rus.fit_resample(train_features_sm_rus, train_labels_sm_rus)"
   ]
  },
  {
   "cell_type": "markdown",
   "id": "5146f85e",
   "metadata": {},
   "source": [
    "Barplot after oversampling: SMOTE, undersampling: RandomUndersampler"
   ]
  },
  {
   "cell_type": "code",
   "execution_count": 57,
   "id": "299714bc",
   "metadata": {},
   "outputs": [
    {
     "name": "stdout",
     "output_type": "stream",
     "text": [
      "(7850, 384)\n",
      "(7850,)\n"
     ]
    },
    {
     "data": {
      "text/plain": [
       "<AxesSubplot:>"
      ]
     },
     "execution_count": 57,
     "metadata": {},
     "output_type": "execute_result"
    },
    {
     "data": {
      "image/png": "[encoded data removed]",
      "text/plain": [
       "<Figure size 432x288 with 1 Axes>"
      ]
     },
     "metadata": {
      "needs_background": "light"
     },
     "output_type": "display_data"
    }
   ],
   "source": [
    "print(train_features_sm_rus.shape)\n",
    "print(train_labels_sm_rus.shape)\n",
    "\n",
    "count = Counter(train_labels_sm_rus)\n",
    "df = pd.DataFrame.from_dict(count, orient='index')\n",
    "df.plot(kind='bar')"
   ]
  },
  {
   "cell_type": "markdown",
   "id": "d9de5698",
   "metadata": {},
   "source": [
    "Combination of SMOTE and Tomek Links Undersampling"
   ]
  },
  {
   "cell_type": "code",
   "execution_count": 32,
   "id": "0aaa681e",
   "metadata": {},
   "outputs": [],
   "source": [
    "# define resampling\n",
    "sm_tomek = SMOTETomek(smote= SMOTE(sampling_strategy='minority', k_neighbors=1, random_state=42), tomek=TomekLinks(sampling_strategy='majority'))\n",
    "\n",
    "train_features_sm_tomek = train_features_sm\n",
    "train_labels_sm_tomek = train_labels_sm\n",
    "\n",
    "for i in range(30):\n",
    "    train_features_sm_tomek, train_labels_sm_tomek = sm_tomek.fit_resample(train_features_sm_tomek, train_labels_sm_tomek)"
   ]
  },
  {
   "cell_type": "code",
   "execution_count": 34,
   "id": "2c1ef540",
   "metadata": {},
   "outputs": [
    {
     "name": "stdout",
     "output_type": "stream",
     "text": [
      "(9582,)\n",
      "(9582,)\n"
     ]
    },
    {
     "data": {
      "text/plain": [
       "<AxesSubplot:>"
      ]
     },
     "execution_count": 34,
     "metadata": {},
     "output_type": "execute_result"
    },
    {
     "data": {
      "image/png": "[encoded data removed]",
      "text/plain": [
       "<Figure size 432x288 with 1 Axes>"
      ]
     },
     "metadata": {
      "needs_background": "light"
     },
     "output_type": "display_data"
    }
   ],
   "source": [
    "print(train_labels_sm_tomek.shape)\n",
    "print(train_labels_sm_tomek.shape)\n",
    "\n",
    "count = Counter(train_labels_sm_tomek)\n",
    "df = pd.DataFrame.from_dict(count, orient='index')\n",
    "df.plot(kind='bar')"
   ]
  },
  {
   "cell_type": "code",
   "execution_count": 35,
   "id": "67110ba7",
   "metadata": {
    "scrolled": true
   },
   "outputs": [
    {
     "name": "stdout",
     "output_type": "stream",
     "text": [
      "Counter({0: 60, 1: 60, 5: 60, 10: 60, 12: 60, 17: 60, 18: 60, 19: 60, 34: 60, 161: 60, 197: 60, 234: 60, 318: 60, 385: 60, 386: 60, 393: 60, 411: 60, 434: 60, 439: 60, 515: 60, 526: 60, 542: 60, 553: 60, 576: 60, 690: 60, 726: 60, 784: 60, 889: 60, 900: 60, 912: 60, 919: 60, 344: 57, 677: 45, 517: 42, 715: 41, 92: 40, 283: 38, 584: 36, 890: 36, 712: 35, 95: 32, 535: 31, 183: 30, 343: 30, 441: 30, 606: 30, 634: 30, 80: 29, 99: 29, 556: 29, 532: 28, 85: 27, 992: 27, 489: 26, 639: 26, 684: 26, 41: 25, 692: 25, 898: 25, 215: 24, 288: 24, 421: 24, 720: 24, 91: 23, 104: 23, 349: 23, 409: 23, 669: 23, 48: 22, 190: 22, 348: 22, 470: 22, 529: 22, 907: 22, 984: 22, 93: 21, 258: 21, 326: 21, 430: 21, 534: 21, 24: 20, 198: 20, 265: 20, 378: 20, 388: 20, 511: 20, 522: 20, 96: 19, 102: 19, 120: 19, 331: 19, 351: 19, 389: 19, 420: 19, 664: 19, 926: 19, 39: 18, 137: 18, 157: 18, 304: 18, 347: 18, 374: 18, 461: 18, 468: 18, 519: 18, 543: 18, 559: 18, 582: 18, 775: 18, 828: 18, 920: 18, 121: 17, 148: 17, 346: 17, 376: 17, 435: 17, 467: 17, 483: 17, 537: 17, 863: 17, 86: 16, 89: 16, 225: 16, 273: 16, 296: 16, 354: 16, 397: 16, 440: 16, 460: 16, 727: 16, 732: 16, 745: 16, 876: 16, 883: 16, 888: 16, 892: 16, 158: 15, 168: 15, 221: 15, 236: 15, 249: 15, 291: 15, 457: 15, 505: 15, 707: 15, 731: 15, 753: 15, 827: 15, 996: 15, 1009: 15, 88: 14, 199: 14, 257: 14, 340: 14, 350: 14, 498: 14, 662: 14, 760: 14, 776: 14, 998: 14, 60: 13, 61: 13, 78: 13, 100: 13, 111: 13, 132: 13, 336: 13, 339: 13, 438: 13, 446: 13, 477: 13, 493: 13, 521: 13, 550: 13, 615: 13, 691: 13, 737: 13, 835: 13, 931: 13, 949: 13, 985: 13, 987: 13, 988: 13, 13: 12, 116: 12, 134: 12, 146: 12, 152: 12, 251: 12, 442: 12, 530: 12, 565: 12, 574: 12, 601: 12, 626: 12, 645: 12, 790: 12, 792: 12, 804: 12, 806: 12, 981: 12, 33: 11, 49: 11, 103: 11, 106: 11, 110: 11, 175: 11, 209: 11, 232: 11, 255: 11, 256: 11, 284: 11, 285: 11, 319: 11, 328: 11, 329: 11, 332: 11, 345: 11, 368: 11, 371: 11, 372: 11, 404: 11, 423: 11, 512: 11, 566: 11, 577: 11, 674: 11, 774: 11, 838: 11, 848: 11, 953: 11, 16: 10, 25: 10, 51: 10, 84: 10, 113: 10, 177: 10, 207: 10, 212: 10, 222: 10, 272: 10, 275: 10, 281: 10, 299: 10, 327: 10, 353: 10, 426: 10, 478: 10, 599: 10, 617: 10, 678: 10, 682: 10, 730: 10, 735: 10, 766: 10, 777: 10, 874: 10, 881: 10, 906: 10, 956: 10, 961: 10, 9: 9, 15: 9, 46: 9, 67: 9, 76: 9, 107: 9, 109: 9, 133: 9, 145: 9, 154: 9, 193: 9, 204: 9, 205: 9, 227: 9, 233: 9, 241: 9, 245: 9, 254: 9, 270: 9, 315: 9, 362: 9, 366: 9, 390: 9, 401: 9, 410: 9, 415: 9, 422: 9, 424: 9, 433: 9, 449: 9, 450: 9, 455: 9, 456: 9, 492: 9, 525: 9, 528: 9, 531: 9, 536: 9, 538: 9, 554: 9, 588: 9, 632: 9, 636: 9, 638: 9, 686: 9, 689: 9, 709: 9, 714: 9, 728: 9, 749: 9, 750: 9, 772: 9, 780: 9, 782: 9, 783: 9, 787: 9, 795: 9, 815: 9, 817: 9, 820: 9, 875: 9, 885: 9, 895: 9, 899: 9, 902: 9, 904: 9, 910: 9, 923: 9, 924: 9, 938: 9, 948: 9, 952: 9, 966: 9, 970: 9, 974: 9, 3: 8, 6: 8, 37: 8, 50: 8, 69: 8, 82: 8, 98: 8, 123: 8, 160: 8, 170: 8, 188: 8, 196: 8, 200: 8, 246: 8, 298: 8, 314: 8, 324: 8, 355: 8, 400: 8, 448: 8, 473: 8, 490: 8, 494: 8, 527: 8, 547: 8, 568: 8, 575: 8, 580: 8, 586: 8, 587: 8, 589: 8, 594: 8, 598: 8, 628: 8, 635: 8, 657: 8, 660: 8, 679: 8, 724: 8, 725: 8, 738: 8, 744: 8, 756: 8, 770: 8, 794: 8, 797: 8, 834: 8, 869: 8, 877: 8, 893: 8, 894: 8, 901: 8, 936: 8, 963: 8, 967: 8, 982: 8, 995: 8, 1002: 8, 1011: 8, 36: 7, 47: 7, 57: 7, 83: 7, 105: 7, 162: 7, 201: 7, 239: 7, 259: 7, 306: 7, 311: 7, 323: 7, 333: 7, 342: 7, 358: 7, 367: 7, 382: 7, 396: 7, 402: 7, 416: 7, 417: 7, 427: 7, 431: 7, 443: 7, 452: 7, 464: 7, 480: 7, 482: 7, 499: 7, 502: 7, 510: 7, 518: 7, 524: 7, 579: 7, 585: 7, 600: 7, 608: 7, 614: 7, 627: 7, 641: 7, 642: 7, 655: 7, 665: 7, 673: 7, 710: 7, 721: 7, 740: 7, 754: 7, 764: 7, 765: 7, 767: 7, 778: 7, 814: 7, 824: 7, 850: 7, 860: 7, 864: 7, 922: 7, 933: 7, 965: 7, 971: 7, 979: 7, 993: 7, 999: 7, 1005: 7, 1006: 7, 1010: 7, 2: 6, 20: 6, 23: 6, 45: 6, 55: 6, 72: 6, 115: 6, 119: 6, 127: 6, 128: 6, 131: 6, 153: 6, 174: 6, 185: 6, 187: 6, 189: 6, 202: 6, 213: 6, 220: 6, 226: 6, 230: 6, 266: 6, 271: 6, 276: 6, 277: 6, 289: 6, 294: 6, 335: 6, 338: 6, 360: 6, 365: 6, 429: 6, 436: 6, 458: 6, 459: 6, 465: 6, 485: 6, 487: 6, 533: 6, 552: 6, 571: 6, 572: 6, 581: 6, 590: 6, 592: 6, 595: 6, 603: 6, 618: 6, 621: 6, 631: 6, 646: 6, 651: 6, 668: 6, 675: 6, 688: 6, 697: 6, 711: 6, 718: 6, 733: 6, 757: 6, 758: 6, 773: 6, 788: 6, 808: 6, 836: 6, 837: 6, 842: 6, 851: 6, 870: 6, 887: 6, 897: 6, 903: 6, 909: 6, 914: 6, 939: 6, 950: 6, 960: 6, 968: 6, 969: 6, 972: 6, 983: 6, 4: 5, 8: 5, 21: 5, 28: 5, 31: 5, 40: 5, 53: 5, 58: 5, 75: 5, 79: 5, 87: 5, 97: 5, 117: 5, 136: 5, 143: 5, 171: 5, 172: 5, 192: 5, 195: 5, 210: 5, 228: 5, 237: 5, 242: 5, 263: 5, 267: 5, 278: 5, 279: 5, 293: 5, 300: 5, 313: 5, 341: 5, 383: 5, 391: 5, 394: 5, 406: 5, 407: 5, 412: 5, 413: 5, 466: 5, 481: 5, 488: 5, 500: 5, 503: 5, 506: 5, 507: 5, 513: 5, 555: 5, 602: 5, 609: 5, 620: 5, 630: 5, 652: 5, 656: 5, 667: 5, 671: 5, 676: 5, 694: 5, 698: 5, 713: 5, 734: 5, 747: 5, 762: 5, 763: 5, 768: 5, 771: 5, 779: 5, 781: 5, 786: 5, 791: 5, 793: 5, 796: 5, 802: 5, 803: 5, 812: 5, 816: 5, 829: 5, 832: 5, 844: 5, 862: 5, 868: 5, 905: 5, 908: 5, 928: 5, 929: 5, 930: 5, 932: 5, 942: 5, 957: 5, 959: 5, 978: 5, 986: 5, 7: 4, 11: 4, 14: 4, 22: 4, 26: 4, 35: 4, 38: 4, 42: 4, 43: 4, 62: 4, 65: 4, 68: 4, 73: 4, 74: 4, 81: 4, 112: 4, 114: 4, 125: 4, 129: 4, 138: 4, 139: 4, 141: 4, 144: 4, 149: 4, 150: 4, 155: 4, 156: 4, 159: 4, 165: 4, 169: 4, 176: 4, 179: 4, 182: 4, 184: 4, 203: 4, 211: 4, 214: 4, 216: 4, 218: 4, 219: 4, 235: 4, 238: 4, 248: 4, 260: 4, 261: 4, 262: 4, 264: 4, 268: 4, 295: 4, 297: 4, 301: 4, 308: 4, 310: 4, 317: 4, 330: 4, 357: 4, 361: 4, 373: 4, 375: 4, 377: 4, 380: 4, 381: 4, 384: 4, 392: 4, 398: 4, 403: 4, 408: 4, 418: 4, 432: 4, 437: 4, 444: 4, 445: 4, 451: 4, 453: 4, 462: 4, 471: 4, 472: 4, 484: 4, 486: 4, 491: 4, 495: 4, 496: 4, 497: 4, 501: 4, 504: 4, 523: 4, 539: 4, 541: 4, 561: 4, 563: 4, 564: 4, 570: 4, 573: 4, 578: 4, 593: 4, 604: 4, 607: 4, 611: 4, 613: 4, 616: 4, 622: 4, 623: 4, 624: 4, 643: 4, 647: 4, 650: 4, 658: 4, 666: 4, 670: 4, 685: 4, 696: 4, 705: 4, 706: 4, 708: 4, 719: 4, 722: 4, 723: 4, 739: 4, 741: 4, 742: 4, 746: 4, 769: 4, 789: 4, 798: 4, 799: 4, 800: 4, 807: 4, 810: 4, 811: 4, 813: 4, 818: 4, 819: 4, 822: 4, 823: 4, 825: 4, 833: 4, 839: 4, 840: 4, 846: 4, 847: 4, 849: 4, 858: 4, 859: 4, 865: 4, 867: 4, 871: 4, 878: 4, 879: 4, 880: 4, 882: 4, 884: 4, 886: 4, 896: 4, 911: 4, 913: 4, 918: 4, 925: 4, 934: 4, 947: 4, 951: 4, 958: 4, 975: 4, 980: 4, 990: 4, 994: 4, 1000: 4, 1003: 4, 1007: 4, 27: 3, 29: 3, 30: 3, 32: 3, 44: 3, 52: 3, 54: 3, 56: 3, 59: 3, 63: 3, 64: 3, 66: 3, 70: 3, 71: 3, 77: 3, 90: 3, 94: 3, 101: 3, 108: 3, 118: 3, 122: 3, 124: 3, 126: 3, 130: 3, 135: 3, 140: 3, 142: 3, 147: 3, 151: 3, 163: 3, 164: 3, 166: 3, 167: 3, 173: 3, 178: 3, 180: 3, 181: 3, 186: 3, 191: 3, 194: 3, 206: 3, 208: 3, 217: 3, 223: 3, 224: 3, 229: 3, 231: 3, 240: 3, 243: 3, 244: 3, 247: 3, 250: 3, 252: 3, 253: 3, 269: 3, 274: 3, 280: 3, 282: 3, 286: 3, 287: 3, 290: 3, 292: 3, 302: 3, 303: 3, 305: 3, 307: 3, 309: 3, 312: 3, 316: 3, 320: 3, 321: 3, 322: 3, 325: 3, 334: 3, 337: 3, 352: 3, 356: 3, 359: 3, 363: 3, 364: 3, 369: 3, 370: 3, 379: 3, 387: 3, 395: 3, 399: 3, 405: 3, 414: 3, 419: 3, 425: 3, 428: 3, 447: 3, 454: 3, 463: 3, 469: 3, 474: 3, 475: 3, 476: 3, 479: 3, 508: 3, 509: 3, 514: 3, 516: 3, 520: 3, 540: 3, 544: 3, 545: 3, 546: 3, 548: 3, 549: 3, 551: 3, 557: 3, 558: 3, 560: 3, 562: 3, 567: 3, 569: 3, 583: 3, 591: 3, 596: 3, 597: 3, 605: 3, 610: 3, 612: 3, 619: 3, 625: 3, 629: 3, 633: 3, 637: 3, 640: 3, 644: 3, 648: 3, 649: 3, 653: 3, 654: 3, 659: 3, 661: 3, 663: 3, 672: 3, 680: 3, 681: 3, 683: 3, 687: 3, 693: 3, 695: 3, 699: 3, 700: 3, 701: 3, 702: 3, 703: 3, 704: 3, 716: 3, 717: 3, 729: 3, 736: 3, 743: 3, 748: 3, 751: 3, 752: 3, 755: 3, 759: 3, 761: 3, 785: 3, 801: 3, 805: 3, 809: 3, 821: 3, 826: 3, 830: 3, 831: 3, 841: 3, 843: 3, 845: 3, 852: 3, 853: 3, 854: 3, 855: 3, 856: 3, 857: 3, 861: 3, 866: 3, 872: 3, 873: 3, 891: 3, 915: 3, 916: 3, 917: 3, 921: 3, 927: 3, 935: 3, 937: 3, 940: 3, 941: 3, 943: 3, 944: 3, 945: 3, 946: 3, 954: 3, 955: 3, 962: 3, 964: 3, 973: 3, 976: 3, 977: 3, 989: 3, 991: 3, 997: 3, 1001: 3, 1004: 3, 1008: 3, 1012: 3})\n"
     ]
    }
   ],
   "source": [
    "# Combination of SMOTE and Tomek Links Undersampling\n",
    "print(Counter(train_labels_sm_tomek))"
   ]
  },
  {
   "cell_type": "markdown",
   "id": "15201744",
   "metadata": {},
   "source": [
    "Combination of SMOTE and Edited Nearest Neighbors Undersampling"
   ]
  },
  {
   "cell_type": "code",
   "execution_count": 45,
   "id": "96c0500f",
   "metadata": {},
   "outputs": [],
   "source": [
    "# define resampling\n",
    "resample = SMOTEENN(smote= SMOTE(k_neighbors=1, random_state=42))\n",
    "\n",
    "train_features_sm_enn = train_features_sm\n",
    "train_labels_sm_enn = train_labels_sm\n",
    "\n",
    "for i in range(30):\n",
    "    train_features_sm_enn, train_labels_sm_enn = sm_tomek.fit_resample(train_features_sm_enn, train_labels_sm_enn)"
   ]
  },
  {
   "cell_type": "code",
   "execution_count": 46,
   "id": "e2818652",
   "metadata": {},
   "outputs": [
    {
     "name": "stdout",
     "output_type": "stream",
     "text": [
      "(9582,)\n",
      "(9582,)\n"
     ]
    },
    {
     "data": {
      "text/plain": [
       "<AxesSubplot:>"
      ]
     },
     "execution_count": 46,
     "metadata": {},
     "output_type": "execute_result"
    },
    {
     "data": {
      "image/png": "[encoded data removed]",
      "text/plain": [
       "<Figure size 432x288 with 1 Axes>"
      ]
     },
     "metadata": {
      "needs_background": "light"
     },
     "output_type": "display_data"
    }
   ],
   "source": [
    "print(train_labels_sm_enn.shape)\n",
    "print(train_labels_sm_enn.shape)\n",
    "\n",
    "count = Counter(train_labels_sm_enn)\n",
    "df = pd.DataFrame.from_dict(count, orient='index')\n",
    "df.plot(kind='bar')"
   ]
  },
  {
   "cell_type": "code",
   "execution_count": 38,
   "id": "4045d2f4",
   "metadata": {
    "scrolled": true
   },
   "outputs": [
    {
     "name": "stdout",
     "output_type": "stream",
     "text": [
      "Counter({0: 60, 1: 60, 5: 60, 10: 60, 12: 60, 17: 60, 18: 60, 19: 60, 34: 60, 161: 60, 197: 60, 234: 60, 318: 60, 385: 60, 386: 60, 393: 60, 411: 60, 434: 60, 439: 60, 515: 60, 526: 60, 542: 60, 553: 60, 576: 60, 690: 60, 726: 60, 784: 60, 889: 60, 900: 60, 912: 60, 919: 60, 344: 57, 677: 45, 517: 42, 715: 41, 92: 40, 283: 38, 584: 36, 890: 36, 712: 35, 95: 32, 535: 31, 183: 30, 343: 30, 441: 30, 606: 30, 634: 30, 80: 29, 99: 29, 556: 29, 532: 28, 85: 27, 992: 27, 489: 26, 639: 26, 684: 26, 41: 25, 692: 25, 898: 25, 215: 24, 288: 24, 421: 24, 720: 24, 91: 23, 104: 23, 349: 23, 409: 23, 669: 23, 48: 22, 190: 22, 348: 22, 470: 22, 529: 22, 907: 22, 984: 22, 93: 21, 258: 21, 326: 21, 430: 21, 534: 21, 24: 20, 198: 20, 265: 20, 378: 20, 388: 20, 511: 20, 522: 20, 96: 19, 102: 19, 120: 19, 331: 19, 351: 19, 389: 19, 420: 19, 664: 19, 926: 19, 39: 18, 137: 18, 157: 18, 304: 18, 347: 18, 374: 18, 461: 18, 468: 18, 519: 18, 543: 18, 559: 18, 582: 18, 775: 18, 828: 18, 920: 18, 121: 17, 148: 17, 346: 17, 376: 17, 435: 17, 467: 17, 483: 17, 537: 17, 863: 17, 86: 16, 89: 16, 225: 16, 273: 16, 296: 16, 354: 16, 397: 16, 440: 16, 460: 16, 727: 16, 732: 16, 745: 16, 876: 16, 883: 16, 888: 16, 892: 16, 158: 15, 168: 15, 221: 15, 236: 15, 249: 15, 291: 15, 457: 15, 505: 15, 707: 15, 731: 15, 753: 15, 827: 15, 996: 15, 1009: 15, 88: 14, 199: 14, 257: 14, 340: 14, 350: 14, 498: 14, 662: 14, 760: 14, 776: 14, 998: 14, 60: 13, 61: 13, 78: 13, 100: 13, 111: 13, 132: 13, 336: 13, 339: 13, 438: 13, 446: 13, 477: 13, 493: 13, 521: 13, 550: 13, 615: 13, 691: 13, 737: 13, 835: 13, 931: 13, 949: 13, 985: 13, 987: 13, 988: 13, 13: 12, 116: 12, 134: 12, 146: 12, 152: 12, 251: 12, 442: 12, 530: 12, 565: 12, 574: 12, 601: 12, 626: 12, 645: 12, 790: 12, 792: 12, 804: 12, 806: 12, 981: 12, 33: 11, 49: 11, 103: 11, 106: 11, 110: 11, 175: 11, 209: 11, 232: 11, 255: 11, 256: 11, 284: 11, 285: 11, 319: 11, 328: 11, 329: 11, 332: 11, 345: 11, 368: 11, 371: 11, 372: 11, 404: 11, 423: 11, 512: 11, 566: 11, 577: 11, 674: 11, 774: 11, 838: 11, 848: 11, 953: 11, 16: 10, 25: 10, 51: 10, 84: 10, 113: 10, 177: 10, 207: 10, 212: 10, 222: 10, 272: 10, 275: 10, 281: 10, 299: 10, 327: 10, 353: 10, 426: 10, 478: 10, 599: 10, 617: 10, 678: 10, 682: 10, 730: 10, 735: 10, 766: 10, 777: 10, 874: 10, 881: 10, 906: 10, 956: 10, 961: 10, 9: 9, 15: 9, 46: 9, 67: 9, 76: 9, 107: 9, 109: 9, 133: 9, 145: 9, 154: 9, 193: 9, 204: 9, 205: 9, 227: 9, 233: 9, 241: 9, 245: 9, 254: 9, 270: 9, 315: 9, 362: 9, 366: 9, 390: 9, 401: 9, 410: 9, 415: 9, 422: 9, 424: 9, 433: 9, 449: 9, 450: 9, 455: 9, 456: 9, 492: 9, 525: 9, 528: 9, 531: 9, 536: 9, 538: 9, 554: 9, 588: 9, 632: 9, 636: 9, 638: 9, 686: 9, 689: 9, 709: 9, 714: 9, 728: 9, 749: 9, 750: 9, 772: 9, 780: 9, 782: 9, 783: 9, 787: 9, 795: 9, 815: 9, 817: 9, 820: 9, 875: 9, 885: 9, 895: 9, 899: 9, 902: 9, 904: 9, 910: 9, 923: 9, 924: 9, 938: 9, 948: 9, 952: 9, 966: 9, 970: 9, 974: 9, 3: 8, 6: 8, 37: 8, 50: 8, 69: 8, 82: 8, 98: 8, 123: 8, 160: 8, 170: 8, 188: 8, 196: 8, 200: 8, 246: 8, 298: 8, 314: 8, 324: 8, 355: 8, 400: 8, 448: 8, 473: 8, 490: 8, 494: 8, 527: 8, 547: 8, 568: 8, 575: 8, 580: 8, 586: 8, 587: 8, 589: 8, 594: 8, 598: 8, 628: 8, 635: 8, 657: 8, 660: 8, 679: 8, 724: 8, 725: 8, 738: 8, 744: 8, 756: 8, 770: 8, 794: 8, 797: 8, 834: 8, 869: 8, 877: 8, 893: 8, 894: 8, 901: 8, 936: 8, 963: 8, 967: 8, 982: 8, 995: 8, 1002: 8, 1011: 8, 36: 7, 47: 7, 57: 7, 83: 7, 105: 7, 162: 7, 201: 7, 239: 7, 259: 7, 306: 7, 311: 7, 323: 7, 333: 7, 342: 7, 358: 7, 367: 7, 382: 7, 396: 7, 402: 7, 416: 7, 417: 7, 427: 7, 431: 7, 443: 7, 452: 7, 464: 7, 480: 7, 482: 7, 499: 7, 502: 7, 510: 7, 518: 7, 524: 7, 579: 7, 585: 7, 600: 7, 608: 7, 614: 7, 627: 7, 641: 7, 642: 7, 655: 7, 665: 7, 673: 7, 710: 7, 721: 7, 740: 7, 754: 7, 764: 7, 765: 7, 767: 7, 778: 7, 814: 7, 824: 7, 850: 7, 860: 7, 864: 7, 922: 7, 933: 7, 965: 7, 971: 7, 979: 7, 993: 7, 999: 7, 1005: 7, 1006: 7, 1010: 7, 2: 6, 20: 6, 23: 6, 45: 6, 55: 6, 72: 6, 115: 6, 119: 6, 127: 6, 128: 6, 131: 6, 153: 6, 174: 6, 185: 6, 187: 6, 189: 6, 202: 6, 213: 6, 220: 6, 226: 6, 230: 6, 266: 6, 271: 6, 276: 6, 277: 6, 289: 6, 294: 6, 335: 6, 338: 6, 360: 6, 365: 6, 429: 6, 436: 6, 458: 6, 459: 6, 465: 6, 485: 6, 487: 6, 533: 6, 552: 6, 571: 6, 572: 6, 581: 6, 590: 6, 592: 6, 595: 6, 603: 6, 618: 6, 621: 6, 631: 6, 646: 6, 651: 6, 668: 6, 675: 6, 688: 6, 697: 6, 711: 6, 718: 6, 733: 6, 757: 6, 758: 6, 773: 6, 788: 6, 808: 6, 836: 6, 837: 6, 842: 6, 851: 6, 870: 6, 887: 6, 897: 6, 903: 6, 909: 6, 914: 6, 939: 6, 950: 6, 960: 6, 968: 6, 969: 6, 972: 6, 983: 6, 4: 5, 8: 5, 21: 5, 28: 5, 31: 5, 40: 5, 53: 5, 58: 5, 75: 5, 79: 5, 87: 5, 97: 5, 117: 5, 136: 5, 143: 5, 171: 5, 172: 5, 192: 5, 195: 5, 210: 5, 228: 5, 237: 5, 242: 5, 263: 5, 267: 5, 278: 5, 279: 5, 293: 5, 300: 5, 313: 5, 341: 5, 383: 5, 391: 5, 394: 5, 406: 5, 407: 5, 412: 5, 413: 5, 466: 5, 481: 5, 488: 5, 500: 5, 503: 5, 506: 5, 507: 5, 513: 5, 555: 5, 602: 5, 609: 5, 620: 5, 630: 5, 652: 5, 656: 5, 667: 5, 671: 5, 676: 5, 694: 5, 698: 5, 713: 5, 734: 5, 747: 5, 762: 5, 763: 5, 768: 5, 771: 5, 779: 5, 781: 5, 786: 5, 791: 5, 793: 5, 796: 5, 802: 5, 803: 5, 812: 5, 816: 5, 829: 5, 832: 5, 844: 5, 862: 5, 868: 5, 905: 5, 908: 5, 928: 5, 929: 5, 930: 5, 932: 5, 942: 5, 957: 5, 959: 5, 978: 5, 986: 5, 7: 4, 11: 4, 14: 4, 22: 4, 26: 4, 35: 4, 38: 4, 42: 4, 43: 4, 62: 4, 65: 4, 68: 4, 73: 4, 74: 4, 81: 4, 112: 4, 114: 4, 125: 4, 129: 4, 138: 4, 139: 4, 141: 4, 144: 4, 149: 4, 150: 4, 155: 4, 156: 4, 159: 4, 165: 4, 169: 4, 176: 4, 179: 4, 182: 4, 184: 4, 203: 4, 211: 4, 214: 4, 216: 4, 218: 4, 219: 4, 235: 4, 238: 4, 248: 4, 260: 4, 261: 4, 262: 4, 264: 4, 268: 4, 295: 4, 297: 4, 301: 4, 308: 4, 310: 4, 317: 4, 330: 4, 357: 4, 361: 4, 373: 4, 375: 4, 377: 4, 380: 4, 381: 4, 384: 4, 392: 4, 398: 4, 403: 4, 408: 4, 418: 4, 432: 4, 437: 4, 444: 4, 445: 4, 451: 4, 453: 4, 462: 4, 471: 4, 472: 4, 484: 4, 486: 4, 491: 4, 495: 4, 496: 4, 497: 4, 501: 4, 504: 4, 523: 4, 539: 4, 541: 4, 561: 4, 563: 4, 564: 4, 570: 4, 573: 4, 578: 4, 593: 4, 604: 4, 607: 4, 611: 4, 613: 4, 616: 4, 622: 4, 623: 4, 624: 4, 643: 4, 647: 4, 650: 4, 658: 4, 666: 4, 670: 4, 685: 4, 696: 4, 705: 4, 706: 4, 708: 4, 719: 4, 722: 4, 723: 4, 739: 4, 741: 4, 742: 4, 746: 4, 769: 4, 789: 4, 798: 4, 799: 4, 800: 4, 807: 4, 810: 4, 811: 4, 813: 4, 818: 4, 819: 4, 822: 4, 823: 4, 825: 4, 833: 4, 839: 4, 840: 4, 846: 4, 847: 4, 849: 4, 858: 4, 859: 4, 865: 4, 867: 4, 871: 4, 878: 4, 879: 4, 880: 4, 882: 4, 884: 4, 886: 4, 896: 4, 911: 4, 913: 4, 918: 4, 925: 4, 934: 4, 947: 4, 951: 4, 958: 4, 975: 4, 980: 4, 990: 4, 994: 4, 1000: 4, 1003: 4, 1007: 4, 27: 3, 29: 3, 30: 3, 32: 3, 44: 3, 52: 3, 54: 3, 56: 3, 59: 3, 63: 3, 64: 3, 66: 3, 70: 3, 71: 3, 77: 3, 90: 3, 94: 3, 101: 3, 108: 3, 118: 3, 122: 3, 124: 3, 126: 3, 130: 3, 135: 3, 140: 3, 142: 3, 147: 3, 151: 3, 163: 3, 164: 3, 166: 3, 167: 3, 173: 3, 178: 3, 180: 3, 181: 3, 186: 3, 191: 3, 194: 3, 206: 3, 208: 3, 217: 3, 223: 3, 224: 3, 229: 3, 231: 3, 240: 3, 243: 3, 244: 3, 247: 3, 250: 3, 252: 3, 253: 3, 269: 3, 274: 3, 280: 3, 282: 3, 286: 3, 287: 3, 290: 3, 292: 3, 302: 3, 303: 3, 305: 3, 307: 3, 309: 3, 312: 3, 316: 3, 320: 3, 321: 3, 322: 3, 325: 3, 334: 3, 337: 3, 352: 3, 356: 3, 359: 3, 363: 3, 364: 3, 369: 3, 370: 3, 379: 3, 387: 3, 395: 3, 399: 3, 405: 3, 414: 3, 419: 3, 425: 3, 428: 3, 447: 3, 454: 3, 463: 3, 469: 3, 474: 3, 475: 3, 476: 3, 479: 3, 508: 3, 509: 3, 514: 3, 516: 3, 520: 3, 540: 3, 544: 3, 545: 3, 546: 3, 548: 3, 549: 3, 551: 3, 557: 3, 558: 3, 560: 3, 562: 3, 567: 3, 569: 3, 583: 3, 591: 3, 596: 3, 597: 3, 605: 3, 610: 3, 612: 3, 619: 3, 625: 3, 629: 3, 633: 3, 637: 3, 640: 3, 644: 3, 648: 3, 649: 3, 653: 3, 654: 3, 659: 3, 661: 3, 663: 3, 672: 3, 680: 3, 681: 3, 683: 3, 687: 3, 693: 3, 695: 3, 699: 3, 700: 3, 701: 3, 702: 3, 703: 3, 704: 3, 716: 3, 717: 3, 729: 3, 736: 3, 743: 3, 748: 3, 751: 3, 752: 3, 755: 3, 759: 3, 761: 3, 785: 3, 801: 3, 805: 3, 809: 3, 821: 3, 826: 3, 830: 3, 831: 3, 841: 3, 843: 3, 845: 3, 852: 3, 853: 3, 854: 3, 855: 3, 856: 3, 857: 3, 861: 3, 866: 3, 872: 3, 873: 3, 891: 3, 915: 3, 916: 3, 917: 3, 921: 3, 927: 3, 935: 3, 937: 3, 940: 3, 941: 3, 943: 3, 944: 3, 945: 3, 946: 3, 954: 3, 955: 3, 962: 3, 964: 3, 973: 3, 976: 3, 977: 3, 989: 3, 991: 3, 997: 3, 1001: 3, 1004: 3, 1008: 3, 1012: 3})\n"
     ]
    }
   ],
   "source": [
    "# Combination of SMOTE and Edited Nearest Neighbors Undersampling\n",
    "print(Counter(train_labels_sm_enn))"
   ]
  },
  {
   "cell_type": "markdown",
   "id": "d02a4d32",
   "metadata": {},
   "source": [
    "Normalization used is MinMaxScaler"
   ]
  },
  {
   "cell_type": "markdown",
   "id": "d9414617",
   "metadata": {},
   "source": [
    "Ridge Classifier"
   ]
  },
  {
   "cell_type": "markdown",
   "id": "aaf681d7",
   "metadata": {},
   "source": [
    "checking effect of oversampling: minority"
   ]
  },
  {
   "cell_type": "code",
   "execution_count": 59,
   "id": "97b007de",
   "metadata": {},
   "outputs": [
    {
     "name": "stdout",
     "output_type": "stream",
     "text": [
      "Overall Accuracy: 0.7715736040609137\n",
      "Mean class accuracy: 0.7631199172660179\n"
     ]
    }
   ],
   "source": [
    "clf = RidgeClassifier(class_weight = 'balanced', random_state=0)\n",
    "clf.fit(train_features_sm_minority, train_labels_sm_minority)\n",
    "preds = clf.predict(validation_features_norm_minmax)\n",
    "score = clf.score(validation_features_norm_minmax, validation_labels)\n",
    "print(\"Overall Accuracy:\", score)\n",
    "mean_acc = mean_class_acc(preds, validation_labels)\n",
    "print(\"Mean class accuracy:\", mean_acc)"
   ]
  },
  {
   "cell_type": "markdown",
   "id": "6b40f9d2",
   "metadata": {},
   "source": [
    "Logistic Regression- Liblinear solver\n",
    "\n",
    "Optimum cost parameter c = 20"
   ]
  },
  {
   "cell_type": "code",
   "execution_count": 12,
   "id": "d6033ec8",
   "metadata": {},
   "outputs": [
    {
     "name": "stdout",
     "output_type": "stream",
     "text": [
      "Cost parameter: 20\n",
      "Overall Accuracy: 0.8150833937635968\n",
      "Mean class accuracy: 0.7816034409815258\n"
     ]
    }
   ],
   "source": [
    "clf_lr_sm_min = LogisticRegression(C = 20, solver = 'liblinear', class_weight = 'balanced', random_state=0)\n",
    "clf_lr_sm_min.fit(train_features_sm_minority, train_labels_sm_minority)\n",
    "preds = clf_lr_sm_min.predict(validation_features_norm_minmax)\n",
    "score = clf_lr_sm_min.score(validation_features_norm_minmax, validation_labels)\n",
    "print(\"Cost parameter:\", 20)\n",
    "print(\"Overall Accuracy:\", score)\n",
    "mean_acc = mean_class_acc(preds, validation_labels)\n",
    "print(\"Mean class accuracy:\", mean_acc)"
   ]
  },
  {
   "cell_type": "markdown",
   "id": "1e639a26",
   "metadata": {},
   "source": [
    "SGDClassifier"
   ]
  },
  {
   "cell_type": "code",
   "execution_count": 13,
   "id": "b665e593",
   "metadata": {},
   "outputs": [
    {
     "name": "stdout",
     "output_type": "stream",
     "text": [
      "Overall Accuracy: 0.41406816533720087\n",
      "Mean class accuracy: 0.39706200347858794\n"
     ]
    }
   ],
   "source": [
    "clf_sgd_sm_min = SGDClassifier(class_weight = 'balanced', random_state=0)\n",
    "clf_sgd_sm_min.fit(train_features_sm_minority, train_labels_sm_minority)\n",
    "preds = clf_sgd_sm_min.predict(validation_features_norm_minmax)\n",
    "score = clf_sgd_sm_min.score(validation_features_norm_minmax, validation_labels)\n",
    "print(\"Overall Accuracy:\", score)\n",
    "mean_acc = mean_class_acc(preds, validation_labels)\n",
    "print(\"Mean class accuracy:\", mean_acc)"
   ]
  },
  {
   "cell_type": "markdown",
   "id": "7d793a12",
   "metadata": {},
   "source": [
    "checking effect of oversampling + undersampling"
   ]
  },
  {
   "cell_type": "markdown",
   "id": "a66a5c88",
   "metadata": {},
   "source": [
    "oversampling: SMOTE, undersampling: RandomUndersampler"
   ]
  },
  {
   "cell_type": "code",
   "execution_count": null,
   "id": "9b631fef",
   "metadata": {},
   "outputs": [],
   "source": []
  },
  {
   "cell_type": "markdown",
   "id": "4c95f3bb",
   "metadata": {},
   "source": [
    "oversampling and undersampling: SMOTETOMEK"
   ]
  },
  {
   "cell_type": "code",
   "execution_count": 60,
   "id": "0221bdb8",
   "metadata": {
    "scrolled": true
   },
   "outputs": [
    {
     "name": "stdout",
     "output_type": "stream",
     "text": [
      "Overall Accuracy: 0.7715736040609137\n",
      "Mean class accuracy: 0.7631199172660179\n"
     ]
    }
   ],
   "source": [
    "clf = RidgeClassifier(class_weight = 'balanced', random_state=0)\n",
    "clf.fit(train_features_sm_tomek, train_labels_sm_tomek)\n",
    "preds = clf.predict(validation_features_norm_minmax)\n",
    "score = clf.score(validation_features_norm_minmax, validation_labels)\n",
    "print(\"Overall Accuracy:\", score)\n",
    "mean_acc = mean_class_acc(preds, validation_labels)\n",
    "print(\"Mean class accuracy:\", mean_acc)"
   ]
  },
  {
   "cell_type": "markdown",
   "id": "82446dd4",
   "metadata": {},
   "source": [
    "oversampling and undersampling: SMOTEENN"
   ]
  },
  {
   "cell_type": "code",
   "execution_count": 61,
   "id": "896705b8",
   "metadata": {},
   "outputs": [
    {
     "name": "stdout",
     "output_type": "stream",
     "text": [
      "Overall Accuracy: 0.7715736040609137\n",
      "Mean class accuracy: 0.7631199172660179\n"
     ]
    }
   ],
   "source": [
    "clf = RidgeClassifier(class_weight = 'balanced', random_state=0)\n",
    "clf.fit(train_features_sm_enn, train_labels_sm_enn)\n",
    "preds = clf.predict(validation_features_norm_minmax)\n",
    "score = clf.score(validation_features_norm_minmax, validation_labels)\n",
    "print(\"Overall Accuracy:\", score)\n",
    "mean_acc = mean_class_acc(preds, validation_labels)\n",
    "print(\"Mean class accuracy:\", mean_acc)"
   ]
  },
  {
   "cell_type": "code",
   "execution_count": null,
   "id": "ef48caf6",
   "metadata": {},
   "outputs": [],
   "source": []
  }
 ],
 "metadata": {
  "kernelspec": {
   "display_name": "Python 3 (ipykernel)",
   "language": "python",
   "name": "python3"
  },
  "language_info": {
   "codemirror_mode": {
    "name": "ipython",
    "version": 3
   },
   "file_extension": ".py",
   "mimetype": "text/x-python",
   "name": "python",
   "nbconvert_exporter": "python",
   "pygments_lexer": "ipython3",
   "version": "3.7.9"
  }
 },
 "nbformat": 4,
 "nbformat_minor": 5
}
